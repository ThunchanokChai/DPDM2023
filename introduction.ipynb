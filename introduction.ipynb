{
  "nbformat": 4,
  "nbformat_minor": 0,
  "metadata": {
    "colab": {
      "provenance": [],
      "toc_visible": true,
      "authorship_tag": "ABX9TyO42cdhds0WHwCQ/xUnph8R",
      "include_colab_link": true
    },
    "kernelspec": {
      "name": "python3",
      "display_name": "Python 3"
    },
    "language_info": {
      "name": "python"
    }
  },
  "cells": [
    {
      "cell_type": "markdown",
      "metadata": {
        "id": "view-in-github",
        "colab_type": "text"
      },
      "source": [
        "<a href=\"https://colab.research.google.com/github/ThunchanokChai/DPDM2023/blob/main/introduction.ipynb\" target=\"_parent\"><img src=\"https://colab.research.google.com/assets/colab-badge.svg\" alt=\"Open In Colab\"/></a>"
      ]
    },
    {
      "cell_type": "markdown",
      "source": [],
      "metadata": {
        "id": "8KC1fYMYq5Wj"
      }
    },
    {
      "cell_type": "markdown",
      "source": [
        "#This is the introduction section\n",
        "##My name is Thunchanok Chaitongdee"
      ],
      "metadata": {
        "id": "4uICNgdjrJCp"
      }
    },
    {
      "cell_type": "code",
      "source": [
        "print('KKU')"
      ],
      "metadata": {
        "colab": {
          "base_uri": "https://localhost:8080/"
        },
        "id": "tZPxsDKhrSL8",
        "outputId": "0f0f41cb-c5ab-4813-9592-f4adfcc39f12"
      },
      "execution_count": null,
      "outputs": [
        {
          "output_type": "stream",
          "name": "stdout",
          "text": [
            "KKU\n"
          ]
        }
      ]
    },
    {
      "cell_type": "code",
      "source": [
        "a = 5 #assign a value to variable a\n",
        "b = a+6 #assign b to be a+6\n",
        "print(b) #print a value in b"
      ],
      "metadata": {
        "colab": {
          "base_uri": "https://localhost:8080/"
        },
        "id": "xuENaW15rnW0",
        "outputId": "15a56898-df06-428d-b9d2-c69bc2a9c924"
      },
      "execution_count": 5,
      "outputs": [
        {
          "output_type": "stream",
          "name": "stdout",
          "text": [
            "11\n"
          ]
        }
      ]
    },
    {
      "cell_type": "code",
      "source": [],
      "metadata": {
        "id": "0wh8E-DKsoUy"
      },
      "execution_count": null,
      "outputs": []
    }
  ]
}