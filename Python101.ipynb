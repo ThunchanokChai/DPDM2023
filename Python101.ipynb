{
  "nbformat": 4,
  "nbformat_minor": 0,
  "metadata": {
    "colab": {
      "provenance": [],
      "authorship_tag": "ABX9TyMxajh5f0dANxscIAG4MFeQ",
      "include_colab_link": true
    },
    "kernelspec": {
      "name": "python3",
      "display_name": "Python 3"
    },
    "language_info": {
      "name": "python"
    }
  },
  "cells": [
    {
      "cell_type": "markdown",
      "metadata": {
        "id": "view-in-github",
        "colab_type": "text"
      },
      "source": [
        "<a href=\"https://colab.research.google.com/github/ThunchanokChai/DPDM2023/blob/main/Python101.ipynb\" target=\"_parent\"><img src=\"https://colab.research.google.com/assets/colab-badge.svg\" alt=\"Open In Colab\"/></a>"
      ]
    },
    {
      "cell_type": "markdown",
      "source": [
        "#String manipulation and print statment"
      ],
      "metadata": {
        "id": "FuFFWwvu4542"
      }
    },
    {
      "cell_type": "markdown",
      "source": [
        "#python example"
      ],
      "metadata": {
        "id": "k0XX13py7S-Q"
      }
    },
    {
      "cell_type": "code",
      "execution_count": null,
      "metadata": {
        "colab": {
          "base_uri": "https://localhost:8080/"
        },
        "id": "rxedi5lG4jQH",
        "outputId": "f9fddebb-1fc9-4821-f6d2-9c9fa4c85b7f"
      },
      "outputs": [
        {
          "output_type": "stream",
          "name": "stdout",
          "text": [
            "a /\n",
            "b /\n",
            "c /\n"
          ]
        }
      ],
      "source": [
        "for i in ['a','b','c'] :\n",
        "  print(i,end=' ')\n",
        "  print('/')\n",
        "  for j in range(10):\n",
        "    ccc=10\n",
        "    #print(ccc)"
      ]
    },
    {
      "cell_type": "markdown",
      "source": [
        "#String(text)"
      ],
      "metadata": {
        "id": "-m8JBZKo7Y1P"
      }
    },
    {
      "cell_type": "code",
      "source": [
        "text1 = \"Stat\" #กำหนดตัวแปรขึ้นมา โดยชื่อของตัวแปร คือ \"text1\" ค่าของตัวแปร คือ \"Stat\""
      ],
      "metadata": {
        "id": "03NdyV_F6zdZ"
      },
      "execution_count": null,
      "outputs": []
    },
    {
      "cell_type": "code",
      "source": [
        "text2 = 'KKU'"
      ],
      "metadata": {
        "id": "_poJKAOP7kyZ"
      },
      "execution_count": null,
      "outputs": []
    },
    {
      "cell_type": "code",
      "source": [
        "print(text1)  #แสดงค่าของตัวแปร \"text1\""
      ],
      "metadata": {
        "colab": {
          "base_uri": "https://localhost:8080/"
        },
        "id": "X3COpj2X7pqu",
        "outputId": "c19b0e7f-28de-48c4-9ba1-1a01350644eb"
      },
      "execution_count": null,
      "outputs": [
        {
          "output_type": "stream",
          "name": "stdout",
          "text": [
            "Stat\n"
          ]
        }
      ]
    },
    {
      "cell_type": "code",
      "source": [
        "print(text1+text2) #แสดงค่าของตัวแปร \"text1\" และตัวแปร \"text2 โดยเอาทั้งสองตัวแปรมารวมกัน"
      ],
      "metadata": {
        "colab": {
          "base_uri": "https://localhost:8080/"
        },
        "id": "4x2nnXCr8UC3",
        "outputId": "b8cd196d-4314-485b-c981-bc78def336eb"
      },
      "execution_count": null,
      "outputs": [
        {
          "output_type": "stream",
          "name": "stdout",
          "text": [
            "StatKKU\n"
          ]
        }
      ]
    },
    {
      "cell_type": "code",
      "source": [
        "print(text1+5) # ไม่สามารถรวม(+) Data คนละชนิดกันได้"
      ],
      "metadata": {
        "colab": {
          "base_uri": "https://localhost:8080/",
          "height": 165
        },
        "id": "o1WwS7NH8r52",
        "outputId": "d248a1aa-cf4f-4c2f-fb52-97efbcaf6e03"
      },
      "execution_count": null,
      "outputs": [
        {
          "output_type": "error",
          "ename": "TypeError",
          "evalue": "ignored",
          "traceback": [
            "\u001b[0;31m---------------------------------------------------------------------------\u001b[0m",
            "\u001b[0;31mTypeError\u001b[0m                                 Traceback (most recent call last)",
            "\u001b[0;32m<ipython-input-11-5fd6f35b13d3>\u001b[0m in \u001b[0;36m<cell line: 1>\u001b[0;34m()\u001b[0m\n\u001b[0;32m----> 1\u001b[0;31m \u001b[0mprint\u001b[0m\u001b[0;34m(\u001b[0m\u001b[0mtext1\u001b[0m\u001b[0;34m+\u001b[0m\u001b[0;36m5\u001b[0m\u001b[0;34m)\u001b[0m\u001b[0;34m\u001b[0m\u001b[0;34m\u001b[0m\u001b[0m\n\u001b[0m",
            "\u001b[0;31mTypeError\u001b[0m: can only concatenate str (not \"int\") to str"
          ]
        }
      ]
    },
    {
      "cell_type": "code",
      "source": [
        "print(5+text1) # ไม่สามารถรวม(+) Data คนละชนิดกันได้ แต่สามารถรวมตัวแปรที่ค่าของตัวแปรเป็นตัวเลขได้ etc int float ดังตัวแปร a b"
      ],
      "metadata": {
        "colab": {
          "base_uri": "https://localhost:8080/",
          "height": 165
        },
        "id": "HbL-wENO845v",
        "outputId": "2aa5c5c5-7627-48b6-cabd-117bf78922f4"
      },
      "execution_count": null,
      "outputs": [
        {
          "output_type": "error",
          "ename": "TypeError",
          "evalue": "ignored",
          "traceback": [
            "\u001b[0;31m---------------------------------------------------------------------------\u001b[0m",
            "\u001b[0;31mTypeError\u001b[0m                                 Traceback (most recent call last)",
            "\u001b[0;32m<ipython-input-12-53f0df0edd4a>\u001b[0m in \u001b[0;36m<cell line: 1>\u001b[0;34m()\u001b[0m\n\u001b[0;32m----> 1\u001b[0;31m \u001b[0mprint\u001b[0m\u001b[0;34m(\u001b[0m\u001b[0;36m5\u001b[0m\u001b[0;34m+\u001b[0m\u001b[0mtext1\u001b[0m\u001b[0;34m)\u001b[0m \u001b[0;31m# ไม่สามารถบวกเดต้าคนละชนิดได้\u001b[0m\u001b[0;34m\u001b[0m\u001b[0;34m\u001b[0m\u001b[0m\n\u001b[0m",
            "\u001b[0;31mTypeError\u001b[0m: unsupported operand type(s) for +: 'int' and 'str'"
          ]
        }
      ]
    },
    {
      "cell_type": "code",
      "source": [],
      "metadata": {
        "id": "5uVthvle9FJA"
      },
      "execution_count": null,
      "outputs": []
    },
    {
      "cell_type": "markdown",
      "source": [
        "#Variable"
      ],
      "metadata": {
        "id": "92_IMkwc92kG"
      }
    },
    {
      "cell_type": "code",
      "source": [
        "a = 5 # กำหนดตัวแปรขึ้นมา โดยชื่อของตัวแปร คือ \"a\" ค่าของตัวแปร คือ \"5\" int(จำนวนเต็ม)\n",
        "print(a)"
      ],
      "metadata": {
        "colab": {
          "base_uri": "https://localhost:8080/"
        },
        "id": "vB5ALhEJ97of",
        "outputId": "d3782ae3-1a17-4464-bbe7-4741ba52ad6a"
      },
      "execution_count": null,
      "outputs": [
        {
          "output_type": "stream",
          "name": "stdout",
          "text": [
            "5\n"
          ]
        }
      ]
    },
    {
      "cell_type": "code",
      "source": [
        "b=5.7 # กำหนดตัวแปรขึ้นมา โดยชื่อของตัวแปร คือ \"b\" ค่าของตัวแปร คือ \"5.7\" float(ทศนิยม)\n",
        "print(b)"
      ],
      "metadata": {
        "colab": {
          "base_uri": "https://localhost:8080/"
        },
        "id": "MxkYPB1V-DP1",
        "outputId": "f21c3eb2-cdca-48bd-c43b-2dc06cb18908"
      },
      "execution_count": null,
      "outputs": [
        {
          "output_type": "stream",
          "name": "stdout",
          "text": [
            "5.7\n"
          ]
        }
      ]
    },
    {
      "cell_type": "code",
      "source": [
        "c= a-b # กำหนดตัวแปรขึ้นมา โดยชื่อของตัวแปร คือ \"c\" โดยที่ค่าของตัวแปร เกิดจากการรวมค่าตัวเลขของตัวแปร a และ b\n",
        "print(c)"
      ],
      "metadata": {
        "colab": {
          "base_uri": "https://localhost:8080/"
        },
        "id": "neR8DQ2w-GP8",
        "outputId": "1f71b59e-663e-4d81-cc23-a1ef1b1ed402"
      },
      "execution_count": null,
      "outputs": [
        {
          "output_type": "stream",
          "name": "stdout",
          "text": [
            "-0.7000000000000002\n"
          ]
        }
      ]
    },
    {
      "cell_type": "code",
      "source": [],
      "metadata": {
        "id": "mfSprhJx-OZ8"
      },
      "execution_count": null,
      "outputs": []
    },
    {
      "cell_type": "markdown",
      "source": [
        "## Variable naming rules\n",
        "  1. ตั้งให้สื่อความหมาย\n",
        "  2. ต้องเป็นภาษาอังกฤษ\n",
        "  3. ใช้ตัวเลขผสมตัวหนังสือได้ แต่ห้ามขึ้นต้นด้วยตัวเลข\n",
        "  4. ห้ามมีเว้นวรรคในตัวแปร\n",
        "  5. ตัวใหญ่ ตัวเล็กมีค่าไม่เท่ากัน\n",
        "\n",
        "  \n",
        "  in English\n",
        "\n",
        "  1.Try to use meaningful word\n",
        "\n",
        "  2.do it in English\n",
        "\n",
        "  3.you can use number in variable name but the name cannot start with numer\n",
        "\n",
        "  4.there should be no space in the name\n",
        "  \n",
        "  5.variale name is case-sensitive (Abc in not equal to ABC)\n",
        "  \n"
      ],
      "metadata": {
        "id": "tiiZ45pe-jPK"
      }
    },
    {
      "cell_type": "code",
      "source": [],
      "metadata": {
        "id": "AHd-KSL4_4Ef"
      },
      "execution_count": null,
      "outputs": []
    },
    {
      "cell_type": "markdown",
      "source": [
        "#Advanced printing"
      ],
      "metadata": {
        "id": "Nh26MEP2AAZ-"
      }
    },
    {
      "cell_type": "code",
      "source": [
        "print(f'six plus five = {6+5}') # F-String คือเอา f' ไปใส่ข้างหน้า แล้วจะสามารนำตัวแปรที่มีค่าอยู่แล้วมาแทรกได้"
      ],
      "metadata": {
        "colab": {
          "base_uri": "https://localhost:8080/"
        },
        "id": "qBGEvY9yAFH_",
        "outputId": "c6a89367-981e-4d75-a6ed-1874c28d12bf"
      },
      "execution_count": null,
      "outputs": [
        {
          "output_type": "stream",
          "name": "stdout",
          "text": [
            "six plus five = 11\n"
          ]
        }
      ]
    },
    {
      "cell_type": "code",
      "source": [
        "print(f'six plus five = {6+5:.2f}%') # ใส่ :.2f} คือให้แสดงค่าของตัวเลข เป็นทศนิยม 2 ตำแหน่ง// ใส่ % หลัง } คือเครื่องหมาน สามารถเป็นเป็น $ & หรืออื่นๆได้"
      ],
      "metadata": {
        "colab": {
          "base_uri": "https://localhost:8080/"
        },
        "id": "lgEUG1XNAWQd",
        "outputId": "a985696c-d5b8-4a92-aa72-d8fcc5af67a5"
      },
      "execution_count": 4,
      "outputs": [
        {
          "output_type": "stream",
          "name": "stdout",
          "text": [
            "six plus five = 11.00&\n"
          ]
        }
      ]
    },
    {
      "cell_type": "code",
      "source": [
        "print(f'six plus five = {6+5:03d}') #"
      ],
      "metadata": {
        "colab": {
          "base_uri": "https://localhost:8080/"
        },
        "id": "BpIiiOp4AzE_",
        "outputId": "113cb2d0-a740-4afa-9ec6-663fae721f0e"
      },
      "execution_count": 19,
      "outputs": [
        {
          "output_type": "stream",
          "name": "stdout",
          "text": [
            "six plus five = 011\n"
          ]
        }
      ]
    },
    {
      "cell_type": "code",
      "source": [
        "st1 = f'six plus five = {6+5:03d}' # สร้างตัวแปร st1 มาเก็บค่าของ f'six plus five = {6+5:03d}"
      ],
      "metadata": {
        "id": "BZcsS96iBqrH"
      },
      "execution_count": 10,
      "outputs": []
    },
    {
      "cell_type": "code",
      "source": [
        "st1 # แสดงค่าของst1"
      ],
      "metadata": {
        "id": "WqGPokUTCWcP",
        "outputId": "e97d26a0-dd2e-4cd8-898b-b9543930b648",
        "colab": {
          "base_uri": "https://localhost:8080/",
          "height": 35
        }
      },
      "execution_count": 11,
      "outputs": [
        {
          "output_type": "execute_result",
          "data": {
            "text/plain": [
              "'six plus five = 011'"
            ],
            "application/vnd.google.colaboratory.intrinsic+json": {
              "type": "string"
            }
          },
          "metadata": {},
          "execution_count": 11
        }
      ]
    },
    {
      "cell_type": "code",
      "source": [],
      "metadata": {
        "id": "XFMnZ0nPCXie"
      },
      "execution_count": null,
      "outputs": []
    }
  ]
}