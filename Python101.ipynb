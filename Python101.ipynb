{
  "nbformat": 4,
  "nbformat_minor": 0,
  "metadata": {
    "colab": {
      "provenance": [],
      "authorship_tag": "ABX9TyMnSKk4ncNnz+beR2908iMu",
      "include_colab_link": true
    },
    "kernelspec": {
      "name": "python3",
      "display_name": "Python 3"
    },
    "language_info": {
      "name": "python"
    }
  },
  "cells": [
    {
      "cell_type": "markdown",
      "metadata": {
        "id": "view-in-github",
        "colab_type": "text"
      },
      "source": [
        "<a href=\"https://colab.research.google.com/github/ThunchanokChai/DPDM2023/blob/main/Python101.ipynb\" target=\"_parent\"><img src=\"https://colab.research.google.com/assets/colab-badge.svg\" alt=\"Open In Colab\"/></a>"
      ]
    },
    {
      "cell_type": "markdown",
      "source": [
        "#String manipulation and print statment"
      ],
      "metadata": {
        "id": "FuFFWwvu4542"
      }
    },
    {
      "cell_type": "markdown",
      "source": [
        "#python example"
      ],
      "metadata": {
        "id": "k0XX13py7S-Q"
      }
    },
    {
      "cell_type": "code",
      "execution_count": null,
      "metadata": {
        "colab": {
          "base_uri": "https://localhost:8080/"
        },
        "id": "rxedi5lG4jQH",
        "outputId": "f9fddebb-1fc9-4821-f6d2-9c9fa4c85b7f"
      },
      "outputs": [
        {
          "output_type": "stream",
          "name": "stdout",
          "text": [
            "a /\n",
            "b /\n",
            "c /\n"
          ]
        }
      ],
      "source": [
        "for i in ['a','b','c'] :\n",
        "  print(i,end=' ')\n",
        "  print('/')\n",
        "  for j in range(10):\n",
        "    ccc=10\n",
        "    #print(ccc)"
      ]
    },
    {
      "cell_type": "markdown",
      "source": [
        "#String(text)"
      ],
      "metadata": {
        "id": "-m8JBZKo7Y1P"
      }
    },
    {
      "cell_type": "code",
      "source": [
        "text1 = \"Stat\" #กำหนดตัวแปรขึ้นมา โดยชื่อของตัวแปร คือ \"text1\" ค่าของตัวแปร คือ \"Stat\""
      ],
      "metadata": {
        "id": "03NdyV_F6zdZ"
      },
      "execution_count": null,
      "outputs": []
    },
    {
      "cell_type": "code",
      "source": [
        "text2 = 'KKU'"
      ],
      "metadata": {
        "id": "_poJKAOP7kyZ"
      },
      "execution_count": null,
      "outputs": []
    },
    {
      "cell_type": "code",
      "source": [
        "print(text1)  #แสดงค่าของตัวแปร \"text1\""
      ],
      "metadata": {
        "colab": {
          "base_uri": "https://localhost:8080/"
        },
        "id": "X3COpj2X7pqu",
        "outputId": "c19b0e7f-28de-48c4-9ba1-1a01350644eb"
      },
      "execution_count": null,
      "outputs": [
        {
          "output_type": "stream",
          "name": "stdout",
          "text": [
            "Stat\n"
          ]
        }
      ]
    },
    {
      "cell_type": "code",
      "source": [
        "print(text1+text2) #แสดงค่าของตัวแปร \"text1\" และตัวแปร \"text2 โดยเอาทั้งสองตัวแปรมารวมกัน"
      ],
      "metadata": {
        "colab": {
          "base_uri": "https://localhost:8080/"
        },
        "id": "4x2nnXCr8UC3",
        "outputId": "b8cd196d-4314-485b-c981-bc78def336eb"
      },
      "execution_count": null,
      "outputs": [
        {
          "output_type": "stream",
          "name": "stdout",
          "text": [
            "StatKKU\n"
          ]
        }
      ]
    },
    {
      "cell_type": "code",
      "source": [
        "print(text1+5) # ไม่สามารถรวม(+) Data คนละชนิดกันได้"
      ],
      "metadata": {
        "colab": {
          "base_uri": "https://localhost:8080/",
          "height": 165
        },
        "id": "o1WwS7NH8r52",
        "outputId": "d248a1aa-cf4f-4c2f-fb52-97efbcaf6e03"
      },
      "execution_count": null,
      "outputs": [
        {
          "output_type": "error",
          "ename": "TypeError",
          "evalue": "ignored",
          "traceback": [
            "\u001b[0;31m---------------------------------------------------------------------------\u001b[0m",
            "\u001b[0;31mTypeError\u001b[0m                                 Traceback (most recent call last)",
            "\u001b[0;32m<ipython-input-11-5fd6f35b13d3>\u001b[0m in \u001b[0;36m<cell line: 1>\u001b[0;34m()\u001b[0m\n\u001b[0;32m----> 1\u001b[0;31m \u001b[0mprint\u001b[0m\u001b[0;34m(\u001b[0m\u001b[0mtext1\u001b[0m\u001b[0;34m+\u001b[0m\u001b[0;36m5\u001b[0m\u001b[0;34m)\u001b[0m\u001b[0;34m\u001b[0m\u001b[0;34m\u001b[0m\u001b[0m\n\u001b[0m",
            "\u001b[0;31mTypeError\u001b[0m: can only concatenate str (not \"int\") to str"
          ]
        }
      ]
    },
    {
      "cell_type": "code",
      "source": [
        "print(5+text1) # ไม่สามารถรวม(+) Data คนละชนิดกันได้ แต่สามารถรวมตัวแปรที่ค่าของตัวแปรเป็นตัวเลขได้ etc int float ดังตัวแปร a b"
      ],
      "metadata": {
        "colab": {
          "base_uri": "https://localhost:8080/",
          "height": 165
        },
        "id": "HbL-wENO845v",
        "outputId": "2aa5c5c5-7627-48b6-cabd-117bf78922f4"
      },
      "execution_count": null,
      "outputs": [
        {
          "output_type": "error",
          "ename": "TypeError",
          "evalue": "ignored",
          "traceback": [
            "\u001b[0;31m---------------------------------------------------------------------------\u001b[0m",
            "\u001b[0;31mTypeError\u001b[0m                                 Traceback (most recent call last)",
            "\u001b[0;32m<ipython-input-12-53f0df0edd4a>\u001b[0m in \u001b[0;36m<cell line: 1>\u001b[0;34m()\u001b[0m\n\u001b[0;32m----> 1\u001b[0;31m \u001b[0mprint\u001b[0m\u001b[0;34m(\u001b[0m\u001b[0;36m5\u001b[0m\u001b[0;34m+\u001b[0m\u001b[0mtext1\u001b[0m\u001b[0;34m)\u001b[0m \u001b[0;31m# ไม่สามารถบวกเดต้าคนละชนิดได้\u001b[0m\u001b[0;34m\u001b[0m\u001b[0;34m\u001b[0m\u001b[0m\n\u001b[0m",
            "\u001b[0;31mTypeError\u001b[0m: unsupported operand type(s) for +: 'int' and 'str'"
          ]
        }
      ]
    },
    {
      "cell_type": "code",
      "source": [],
      "metadata": {
        "id": "5uVthvle9FJA"
      },
      "execution_count": null,
      "outputs": []
    },
    {
      "cell_type": "markdown",
      "source": [
        "#Variable"
      ],
      "metadata": {
        "id": "92_IMkwc92kG"
      }
    },
    {
      "cell_type": "code",
      "source": [
        "a = 5 # กำหนดตัวแปรขึ้นมา โดยชื่อของตัวแปร คือ \"a\" ค่าของตัวแปร คือ \"5\" int(จำนวนเต็ม)\n",
        "print(a)"
      ],
      "metadata": {
        "colab": {
          "base_uri": "https://localhost:8080/"
        },
        "id": "vB5ALhEJ97of",
        "outputId": "d3782ae3-1a17-4464-bbe7-4741ba52ad6a"
      },
      "execution_count": null,
      "outputs": [
        {
          "output_type": "stream",
          "name": "stdout",
          "text": [
            "5\n"
          ]
        }
      ]
    },
    {
      "cell_type": "code",
      "source": [
        "b=5.7 # กำหนดตัวแปรขึ้นมา โดยชื่อของตัวแปร คือ \"b\" ค่าของตัวแปร คือ \"5.7\" float(ทศนิยม)\n",
        "print(b)"
      ],
      "metadata": {
        "colab": {
          "base_uri": "https://localhost:8080/"
        },
        "id": "MxkYPB1V-DP1",
        "outputId": "f21c3eb2-cdca-48bd-c43b-2dc06cb18908"
      },
      "execution_count": null,
      "outputs": [
        {
          "output_type": "stream",
          "name": "stdout",
          "text": [
            "5.7\n"
          ]
        }
      ]
    },
    {
      "cell_type": "code",
      "source": [
        "c= a-b # กำหนดตัวแปรขึ้นมา โดยชื่อของตัวแปร คือ \"c\" โดยที่ค่าของตัวแปร เกิดจากการรวมค่าตัวเลขของตัวแปร a และ b\n",
        "print(c)"
      ],
      "metadata": {
        "colab": {
          "base_uri": "https://localhost:8080/"
        },
        "id": "neR8DQ2w-GP8",
        "outputId": "1f71b59e-663e-4d81-cc23-a1ef1b1ed402"
      },
      "execution_count": null,
      "outputs": [
        {
          "output_type": "stream",
          "name": "stdout",
          "text": [
            "-0.7000000000000002\n"
          ]
        }
      ]
    },
    {
      "cell_type": "code",
      "source": [],
      "metadata": {
        "id": "mfSprhJx-OZ8"
      },
      "execution_count": null,
      "outputs": []
    },
    {
      "cell_type": "markdown",
      "source": [
        "## Variable naming rules\n",
        "  1. ตั้งให้สื่อความหมาย\n",
        "  2. ต้องเป็นภาษาอังกฤษ\n",
        "  3. ใช้ตัวเลขผสมตัวหนังสือได้ แต่ห้ามขึ้นต้นด้วยตัวเลข\n",
        "  4. ห้ามมีเว้นวรรคในตัวแปร\n",
        "  5. ตัวใหญ่ ตัวเล็กมีค่าไม่เท่ากัน\n",
        "\n",
        "  \n",
        "  in English\n",
        "\n",
        "  1.Try to use meaningful word\n",
        "\n",
        "  2.do it in English\n",
        "\n",
        "  3.you can use number in variable name but the name cannot start with numer\n",
        "\n",
        "  4.there should be no space in the name\n",
        "  \n",
        "  5.variale name is case-sensitive (Abc in not equal to ABC)\n",
        "  \n"
      ],
      "metadata": {
        "id": "tiiZ45pe-jPK"
      }
    },
    {
      "cell_type": "code",
      "source": [],
      "metadata": {
        "id": "AHd-KSL4_4Ef"
      },
      "execution_count": null,
      "outputs": []
    },
    {
      "cell_type": "markdown",
      "source": [
        "#Advanced printing"
      ],
      "metadata": {
        "id": "Nh26MEP2AAZ-"
      }
    },
    {
      "cell_type": "code",
      "source": [
        "print(f'six plus five = {6+5}') # F-String คือเอา f' ไปใส่ข้างหน้า แล้วจะสามารนำตัวแปรที่มีค่าอยู่แล้วมาแทรกได้"
      ],
      "metadata": {
        "colab": {
          "base_uri": "https://localhost:8080/"
        },
        "id": "qBGEvY9yAFH_",
        "outputId": "c6a89367-981e-4d75-a6ed-1874c28d12bf"
      },
      "execution_count": null,
      "outputs": [
        {
          "output_type": "stream",
          "name": "stdout",
          "text": [
            "six plus five = 11\n"
          ]
        }
      ]
    },
    {
      "cell_type": "code",
      "source": [
        "print(f'six plus five = {6+5:.2f}%') # ใส่ :.2f} คือให้แสดงค่าของตัวเลข เป็นทศนิยม 2 ตำแหน่ง// ใส่ % หลัง } คือเครื่องหมาน สามารถเป็นเป็น $ & หรืออื่นๆได้"
      ],
      "metadata": {
        "colab": {
          "base_uri": "https://localhost:8080/"
        },
        "id": "lgEUG1XNAWQd",
        "outputId": "a985696c-d5b8-4a92-aa72-d8fcc5af67a5"
      },
      "execution_count": null,
      "outputs": [
        {
          "output_type": "stream",
          "name": "stdout",
          "text": [
            "six plus five = 11.00&\n"
          ]
        }
      ]
    },
    {
      "cell_type": "code",
      "source": [
        "print(f'six plus five = {6+5:03d}') #"
      ],
      "metadata": {
        "colab": {
          "base_uri": "https://localhost:8080/"
        },
        "id": "BpIiiOp4AzE_",
        "outputId": "113cb2d0-a740-4afa-9ec6-663fae721f0e"
      },
      "execution_count": null,
      "outputs": [
        {
          "output_type": "stream",
          "name": "stdout",
          "text": [
            "six plus five = 011\n"
          ]
        }
      ]
    },
    {
      "cell_type": "code",
      "source": [
        "st1 = f'six plus five = {6+5:03d}' # สร้างตัวแปร st1 มาเก็บค่าของ f'six plus five = {6+5:03d}"
      ],
      "metadata": {
        "id": "BZcsS96iBqrH"
      },
      "execution_count": null,
      "outputs": []
    },
    {
      "cell_type": "code",
      "source": [
        "st1 # แสดงค่าของst1"
      ],
      "metadata": {
        "id": "WqGPokUTCWcP",
        "outputId": "e97d26a0-dd2e-4cd8-898b-b9543930b648",
        "colab": {
          "base_uri": "https://localhost:8080/",
          "height": 35
        }
      },
      "execution_count": null,
      "outputs": [
        {
          "output_type": "execute_result",
          "data": {
            "text/plain": [
              "'six plus five = 011'"
            ],
            "application/vnd.google.colaboratory.intrinsic+json": {
              "type": "string"
            }
          },
          "metadata": {},
          "execution_count": 11
        }
      ]
    },
    {
      "cell_type": "markdown",
      "source": [
        "#Class 04/07/23"
      ],
      "metadata": {
        "id": "SCFcPTNO9ZYS"
      }
    },
    {
      "cell_type": "code",
      "source": [
        "print('stat','KKU')"
      ],
      "metadata": {
        "colab": {
          "base_uri": "https://localhost:8080/"
        },
        "id": "rbQHnHmk9mDO",
        "outputId": "df724a44-cbce-4c6f-a1d9-b8dc5f6fb02d"
      },
      "execution_count": 2,
      "outputs": [
        {
          "output_type": "stream",
          "name": "stdout",
          "text": [
            "stat KKU\n"
          ]
        }
      ]
    },
    {
      "cell_type": "code",
      "source": [
        "print('stat','KKU',sep='/')"
      ],
      "metadata": {
        "colab": {
          "base_uri": "https://localhost:8080/"
        },
        "id": "PnkaNmlp-D6K",
        "outputId": "f173a092-6670-4192-a1de-d71adab32541"
      },
      "execution_count": 3,
      "outputs": [
        {
          "output_type": "stream",
          "name": "stdout",
          "text": [
            "stat/KKU\n"
          ]
        }
      ]
    },
    {
      "cell_type": "code",
      "source": [
        "print('stat')\n",
        "print('KKU')"
      ],
      "metadata": {
        "colab": {
          "base_uri": "https://localhost:8080/"
        },
        "id": "zbwrZgAb_DhB",
        "outputId": "1ed3f7d4-d8f6-4d78-87a0-d9f04d90a486"
      },
      "execution_count": 5,
      "outputs": [
        {
          "output_type": "stream",
          "name": "stdout",
          "text": [
            "stat\n",
            "KKU\n"
          ]
        }
      ]
    },
    {
      "cell_type": "markdown",
      "source": [
        "end"
      ],
      "metadata": {
        "id": "5ehPk_O3-yix"
      }
    },
    {
      "cell_type": "code",
      "source": [
        "print('stat',end='+-+')\n",
        "print('KKU')"
      ],
      "metadata": {
        "colab": {
          "base_uri": "https://localhost:8080/"
        },
        "id": "Xy517KQD-2RW",
        "outputId": "dabd53b7-7583-4551-cc36-8bd8b7f53f50"
      },
      "execution_count": 4,
      "outputs": [
        {
          "output_type": "stream",
          "name": "stdout",
          "text": [
            "stat+-+KKU\n"
          ]
        }
      ]
    },
    {
      "cell_type": "markdown",
      "source": [
        "#Variable types"
      ],
      "metadata": {
        "id": "-QnDNqvu_Zsz"
      }
    },
    {
      "cell_type": "markdown",
      "source": [
        "#char(acter)(ตัวอักษร)"
      ],
      "metadata": {
        "id": "oxPyxhj3_gcC"
      }
    },
    {
      "cell_type": "code",
      "source": [
        "a = 'C'"
      ],
      "metadata": {
        "id": "OCWd2Mqu_oIQ"
      },
      "execution_count": 9,
      "outputs": []
    },
    {
      "cell_type": "code",
      "source": [
        "b= 'haracter'"
      ],
      "metadata": {
        "id": "vhqOy4zY_x9o"
      },
      "execution_count": 10,
      "outputs": []
    },
    {
      "cell_type": "code",
      "source": [
        "print(f'a={a} b={b},then {a}+{b} = {a+b}') #string + string"
      ],
      "metadata": {
        "colab": {
          "base_uri": "https://localhost:8080/"
        },
        "id": "GTjM-W3d_1wY",
        "outputId": "6acdf940-89da-49b7-a996-f414592b3912"
      },
      "execution_count": 11,
      "outputs": [
        {
          "output_type": "stream",
          "name": "stdout",
          "text": [
            "a=C b=haracter,then C+haracter = Character\n"
          ]
        }
      ]
    },
    {
      "cell_type": "code",
      "source": [
        "A = 'c'\n",
        "B = 'a'"
      ],
      "metadata": {
        "id": "gi5JPNf5AMB7"
      },
      "execution_count": 12,
      "outputs": []
    },
    {
      "cell_type": "code",
      "source": [
        "print(A+B) # string + string คือมาต่อกันได้"
      ],
      "metadata": {
        "colab": {
          "base_uri": "https://localhost:8080/"
        },
        "id": "7eTtIA5NASd6",
        "outputId": "593e5227-c618-45aa-b6af-796f2cdffd49"
      },
      "execution_count": 13,
      "outputs": [
        {
          "output_type": "stream",
          "name": "stdout",
          "text": [
            "ca\n"
          ]
        }
      ]
    },
    {
      "cell_type": "markdown",
      "source": [
        "# ```integer * char``` mean multiple copies of the char"
      ],
      "metadata": {
        "id": "LGVLelsGAcS-"
      }
    },
    {
      "cell_type": "code",
      "source": [
        "print(5*'T')"
      ],
      "metadata": {
        "colab": {
          "base_uri": "https://localhost:8080/"
        },
        "id": "9y4Kvc8zBDCi",
        "outputId": "a8eb17d9-519a-4f91-e745-dee675f67603"
      },
      "execution_count": 14,
      "outputs": [
        {
          "output_type": "stream",
          "name": "stdout",
          "text": [
            "TTTTT\n"
          ]
        }
      ]
    },
    {
      "cell_type": "markdown",
      "source": [
        "## Quiz1\n",
        "print Ha for 100 times with one print function"
      ],
      "metadata": {
        "id": "NnmeZNiSBWjW"
      }
    },
    {
      "cell_type": "code",
      "source": [
        "print(100*'Ha')"
      ],
      "metadata": {
        "colab": {
          "base_uri": "https://localhost:8080/"
        },
        "id": "kDC-gzvgBkNt",
        "outputId": "f6fa87e2-6ecc-4f29-f941-803aa54f2787"
      },
      "execution_count": 16,
      "outputs": [
        {
          "output_type": "stream",
          "name": "stdout",
          "text": [
            "HaHaHaHaHaHaHaHaHaHaHaHaHaHaHaHaHaHaHaHaHaHaHaHaHaHaHaHaHaHaHaHaHaHaHaHaHaHaHaHaHaHaHaHaHaHaHaHaHaHaHaHaHaHaHaHaHaHaHaHaHaHaHaHaHaHaHaHaHaHaHaHaHaHaHaHaHaHaHaHaHaHaHaHaHaHaHaHaHaHaHaHaHaHaHaHaHaHaHaHa\n"
          ]
        }
      ]
    },
    {
      "cell_type": "markdown",
      "source": [
        "#int(eger)(จำนวนเต็ม)"
      ],
      "metadata": {
        "id": "wU7gfBNOF_KY"
      }
    },
    {
      "cell_type": "code",
      "source": [
        "int_a = 7\n",
        "int_b = 2"
      ],
      "metadata": {
        "id": "ye6vnYd3GFzt"
      },
      "execution_count": 19,
      "outputs": []
    },
    {
      "cell_type": "code",
      "source": [
        "print(type(int_a),type(int_b))  #เช็คชนิดของตัวแปร"
      ],
      "metadata": {
        "id": "ETpr-r04GM6I",
        "outputId": "ca99348e-1a43-46d8-917d-d15737ad0815",
        "colab": {
          "base_uri": "https://localhost:8080/"
        }
      },
      "execution_count": 20,
      "outputs": [
        {
          "output_type": "stream",
          "name": "stdout",
          "text": [
            "<class 'int'> <class 'int'>\n"
          ]
        }
      ]
    },
    {
      "cell_type": "code",
      "source": [
        "int_c = int_a + int_b #assign the value as the output of operation\n",
        "print(int_c)"
      ],
      "metadata": {
        "id": "R85RT2AAGaL1",
        "outputId": "75b5ca35-b7fe-4cf2-9c6e-8d04cf383364",
        "colab": {
          "base_uri": "https://localhost:8080/"
        }
      },
      "execution_count": 23,
      "outputs": [
        {
          "output_type": "stream",
          "name": "stdout",
          "text": [
            "9\n"
          ]
        }
      ]
    },
    {
      "cell_type": "markdown",
      "source": [
        "#Float(จำนวนจริง ทศนิยม)"
      ],
      "metadata": {
        "id": "LzhXPOmVGzvi"
      }
    },
    {
      "cell_type": "code",
      "source": [
        "fl_a = 7. # dot without number = Float too\n",
        "fl_b = 2.571"
      ],
      "metadata": {
        "id": "Ph1H1O7HG58V"
      },
      "execution_count": 25,
      "outputs": []
    },
    {
      "cell_type": "code",
      "source": [
        "print(fl_a)"
      ],
      "metadata": {
        "id": "5yWyDPWKHQJF",
        "outputId": "f78eea76-bddf-4510-9529-4066bceccfa3",
        "colab": {
          "base_uri": "https://localhost:8080/"
        }
      },
      "execution_count": 27,
      "outputs": [
        {
          "output_type": "stream",
          "name": "stdout",
          "text": [
            "7.0\n"
          ]
        }
      ]
    },
    {
      "cell_type": "code",
      "source": [
        "print(type(fl_a))"
      ],
      "metadata": {
        "id": "fgXh3L5DHG6I",
        "outputId": "cf14cff2-a13e-4c07-c18d-e847f206aaae",
        "colab": {
          "base_uri": "https://localhost:8080/"
        }
      },
      "execution_count": 26,
      "outputs": [
        {
          "output_type": "stream",
          "name": "stdout",
          "text": [
            "<class 'float'>\n"
          ]
        }
      ]
    },
    {
      "cell_type": "markdown",
      "source": [
        "#Boolean (ตัวแปรที่มีค่า True or False) ตรรกศาสตร์"
      ],
      "metadata": {
        "id": "DZhUObeJHVuK"
      }
    },
    {
      "cell_type": "code",
      "source": [
        "b_T = True"
      ],
      "metadata": {
        "id": "AEeF4HN0HeMJ"
      },
      "execution_count": 28,
      "outputs": []
    },
    {
      "cell_type": "code",
      "source": [
        "b_F = False"
      ],
      "metadata": {
        "id": "oULEOUYpHhOd"
      },
      "execution_count": 29,
      "outputs": []
    },
    {
      "cell_type": "markdown",
      "source": [
        "```==```equal,```!=```not equal,```>```greater than,```<=```less than or equal,```|```or,```&```and"
      ],
      "metadata": {
        "id": "qWo80HOIHmAS"
      }
    },
    {
      "cell_type": "code",
      "source": [
        "b_T | b_F"
      ],
      "metadata": {
        "id": "Y6g8bGHyH9Gf",
        "outputId": "9d62705e-04e4-4ad6-fa85-50ddbeb56378",
        "colab": {
          "base_uri": "https://localhost:8080/"
        }
      },
      "execution_count": 30,
      "outputs": [
        {
          "output_type": "execute_result",
          "data": {
            "text/plain": [
              "True"
            ]
          },
          "metadata": {},
          "execution_count": 30
        }
      ]
    },
    {
      "cell_type": "markdown",
      "source": [
        "#Complex number (จำนวนเชิงซ้อน)"
      ],
      "metadata": {
        "id": "c_IWMQvHIPEZ"
      }
    },
    {
      "cell_type": "code",
      "source": [
        "x = 1+2j"
      ],
      "metadata": {
        "id": "IE1Bj0o4IVPh"
      },
      "execution_count": 31,
      "outputs": []
    },
    {
      "cell_type": "markdown",
      "source": [
        "### we can check the datatype with type()"
      ],
      "metadata": {
        "id": "3I2uUBrgIcNd"
      }
    },
    {
      "cell_type": "code",
      "source": [
        "print(f'variable a value is {x} and datatype is {type(x)}')"
      ],
      "metadata": {
        "id": "82iSXsLTIkw_",
        "outputId": "060603e8-99d8-44a2-e1ee-2b2244464a0b",
        "colab": {
          "base_uri": "https://localhost:8080/"
        }
      },
      "execution_count": 32,
      "outputs": [
        {
          "output_type": "stream",
          "name": "stdout",
          "text": [
            "variable a value is (1+2j) and datatype is <class 'complex'>\n"
          ]
        }
      ]
    },
    {
      "cell_type": "code",
      "source": [
        "print(f'ตัวแปร A ค่าคือ {A} ชนิด {type(A)}')"
      ],
      "metadata": {
        "id": "XjALcmmaIzdG",
        "outputId": "c78561f2-6134-42c0-ef72-60c01bd526e0",
        "colab": {
          "base_uri": "https://localhost:8080/"
        }
      },
      "execution_count": 33,
      "outputs": [
        {
          "output_type": "stream",
          "name": "stdout",
          "text": [
            "ตัวแปร A ค่าคือ c ชนิด <class 'str'>\n"
          ]
        }
      ]
    },
    {
      "cell_type": "code",
      "source": [
        "print(f'ตัวแปร a ค่าคือ {a} ชนิด {type(A)}')"
      ],
      "metadata": {
        "id": "vLL-a2IwJafl",
        "outputId": "b7ade3a4-6219-4235-a82b-e0e76875814d",
        "colab": {
          "base_uri": "https://localhost:8080/"
        }
      },
      "execution_count": 34,
      "outputs": [
        {
          "output_type": "stream",
          "name": "stdout",
          "text": [
            "ตัวแปร a ค่าคือ C ชนิด <class 'str'>\n"
          ]
        }
      ]
    },
    {
      "cell_type": "markdown",
      "source": [
        "Variable Casting(การแปลงชนิดของตัวแปร)"
      ],
      "metadata": {
        "id": "dp-s0hX2JNSD"
      }
    },
    {
      "cell_type": "code",
      "source": [
        "print(f'int_a={int_a} int_b={int_b} Fl_a = {fl_a} fl_b={fl_b}')"
      ],
      "metadata": {
        "id": "6pH36JyjJvVJ",
        "outputId": "052c3bd0-3c22-46c9-874e-bbd1c6b628ed",
        "colab": {
          "base_uri": "https://localhost:8080/"
        }
      },
      "execution_count": 35,
      "outputs": [
        {
          "output_type": "stream",
          "name": "stdout",
          "text": [
            "int_a=7 int_b=2 Fl_a = 7.0 fl_b=2.571\n"
          ]
        }
      ]
    },
    {
      "cell_type": "code",
      "source": [
        "str_a ='6'\n",
        "str_b = '-2'"
      ],
      "metadata": {
        "id": "YqvRtKwmKHOm"
      },
      "execution_count": 36,
      "outputs": []
    },
    {
      "cell_type": "code",
      "source": [
        "str_a2int = int(str_a) #transform string into int\n",
        "print(f'variable str_a2int value is {str_a2int} and data type is {type(str_a2int)}')"
      ],
      "metadata": {
        "id": "MG5rNffYKPb-",
        "outputId": "eda07b46-04db-45f3-ea00-5d33e2893907",
        "colab": {
          "base_uri": "https://localhost:8080/"
        }
      },
      "execution_count": 38,
      "outputs": [
        {
          "output_type": "stream",
          "name": "stdout",
          "text": [
            "variable str_a2int value is 6 and data type is <class 'int'>\n"
          ]
        }
      ]
    },
    {
      "cell_type": "code",
      "source": [
        "str_a + int_a # ไม่สามารถนำ string + int ได้"
      ],
      "metadata": {
        "id": "Zc3rwkPXK4tO",
        "outputId": "8bbe2ee1-6e88-400e-e74d-a143b5a528ff",
        "colab": {
          "base_uri": "https://localhost:8080/",
          "height": 164
        }
      },
      "execution_count": 40,
      "outputs": [
        {
          "output_type": "error",
          "ename": "TypeError",
          "evalue": "ignored",
          "traceback": [
            "\u001b[0;31m---------------------------------------------------------------------------\u001b[0m",
            "\u001b[0;31mTypeError\u001b[0m                                 Traceback (most recent call last)",
            "\u001b[0;32m<ipython-input-40-e0cb324f8aa3>\u001b[0m in \u001b[0;36m<cell line: 1>\u001b[0;34m()\u001b[0m\n\u001b[0;32m----> 1\u001b[0;31m \u001b[0mstr_a\u001b[0m \u001b[0;34m+\u001b[0m \u001b[0mint_a\u001b[0m \u001b[0;31m# ไม่สามารถนำ string + int ได้\u001b[0m\u001b[0;34m\u001b[0m\u001b[0;34m\u001b[0m\u001b[0m\n\u001b[0m",
            "\u001b[0;31mTypeError\u001b[0m: can only concatenate str (not \"int\") to str"
          ]
        }
      ]
    },
    {
      "cell_type": "code",
      "source": [
        "str_a2int +int_a"
      ],
      "metadata": {
        "id": "3hkAfPJbKuxD",
        "outputId": "0ab1c81f-2f6f-4d7e-ac43-ba2ff11a915b",
        "colab": {
          "base_uri": "https://localhost:8080/"
        }
      },
      "execution_count": 39,
      "outputs": [
        {
          "output_type": "execute_result",
          "data": {
            "text/plain": [
              "13"
            ]
          },
          "metadata": {},
          "execution_count": 39
        }
      ]
    },
    {
      "cell_type": "code",
      "source": [
        "str(fl_b) # transform float to string"
      ],
      "metadata": {
        "id": "tBC-ll1sLKju",
        "outputId": "5fdf0514-ebec-4673-8aac-5c7469d228c3",
        "colab": {
          "base_uri": "https://localhost:8080/",
          "height": 35
        }
      },
      "execution_count": 41,
      "outputs": [
        {
          "output_type": "execute_result",
          "data": {
            "text/plain": [
              "'2.571'"
            ],
            "application/vnd.google.colaboratory.intrinsic+json": {
              "type": "string"
            }
          },
          "metadata": {},
          "execution_count": 41
        }
      ]
    },
    {
      "cell_type": "code",
      "source": [
        "int(fl_b) # transform float to int (but it will cut the floating point)"
      ],
      "metadata": {
        "id": "gUo9BaumLW9e",
        "outputId": "9017d2a0-2631-487c-8c21-5419be05c2c7",
        "colab": {
          "base_uri": "https://localhost:8080/"
        }
      },
      "execution_count": 42,
      "outputs": [
        {
          "output_type": "execute_result",
          "data": {
            "text/plain": [
              "2"
            ]
          },
          "metadata": {},
          "execution_count": 42
        }
      ]
    },
    {
      "cell_type": "markdown",
      "source": [
        "#replace() แทนที่ string"
      ],
      "metadata": {
        "id": "sRHYpy2NL3Ee"
      }
    },
    {
      "cell_type": "code",
      "source": [
        "st_test1 = 'Department 0f Statistics,'"
      ],
      "metadata": {
        "id": "GX5BMjetL9o9"
      },
      "execution_count": 43,
      "outputs": []
    },
    {
      "cell_type": "code",
      "source": [
        "st_test1.replace('e',' ') # replace e with space"
      ],
      "metadata": {
        "id": "ORkqXFjvMRaq",
        "outputId": "982b2291-945e-41bf-96ad-c64adf726b5f",
        "colab": {
          "base_uri": "https://localhost:8080/",
          "height": 35
        }
      },
      "execution_count": 44,
      "outputs": [
        {
          "output_type": "execute_result",
          "data": {
            "text/plain": [
              "'D partm nt 0f Statistics,'"
            ],
            "application/vnd.google.colaboratory.intrinsic+json": {
              "type": "string"
            }
          },
          "metadata": {},
          "execution_count": 44
        }
      ]
    },
    {
      "cell_type": "code",
      "source": [
        "st_test1 #ไม่โชว์การแทนค่า"
      ],
      "metadata": {
        "id": "q1TgjBNvMfmZ",
        "outputId": "6f6290bd-aebf-442d-adbb-5d62b44d0e38",
        "colab": {
          "base_uri": "https://localhost:8080/",
          "height": 35
        }
      },
      "execution_count": 45,
      "outputs": [
        {
          "output_type": "execute_result",
          "data": {
            "text/plain": [
              "'Department 0f Statistics,'"
            ],
            "application/vnd.google.colaboratory.intrinsic+json": {
              "type": "string"
            }
          },
          "metadata": {},
          "execution_count": 45
        }
      ]
    },
    {
      "cell_type": "code",
      "source": [
        "st_test2 = st_test1.replace('e',' ') #สร้างตัวแปรใหม่มาเก็บค่า st_test1 that already replaced e with space\n",
        "print(st_test2)"
      ],
      "metadata": {
        "id": "ezFYl3_XMnvW",
        "outputId": "dbffa871-3ea4-4bde-b1b0-2eef340050cb",
        "colab": {
          "base_uri": "https://localhost:8080/"
        }
      },
      "execution_count": 51,
      "outputs": [
        {
          "output_type": "stream",
          "name": "stdout",
          "text": [
            "D partm nt 0f Statistics,\n"
          ]
        }
      ]
    },
    {
      "cell_type": "code",
      "source": [
        "st_test1.replace('ti','TI') # modift ti to TI"
      ],
      "metadata": {
        "id": "DxUwuHdINBMT",
        "outputId": "32ffc1f6-16b1-4419-ade3-8bef0482d8fe",
        "colab": {
          "base_uri": "https://localhost:8080/",
          "height": 35
        }
      },
      "execution_count": 53,
      "outputs": [
        {
          "output_type": "execute_result",
          "data": {
            "text/plain": [
              "'Department 0f StaTIsTIcs,'"
            ],
            "application/vnd.google.colaboratory.intrinsic+json": {
              "type": "string"
            }
          },
          "metadata": {},
          "execution_count": 53
        }
      ]
    },
    {
      "cell_type": "markdown",
      "source": [
        "#เ แ เเ ต้องเปลี่ยนให้เหมือนกัน"
      ],
      "metadata": {
        "id": "bMXjQYhDOBzR"
      }
    },
    {
      "cell_type": "markdown",
      "source": [
        "#split () แยก string"
      ],
      "metadata": {
        "id": "mckJFeRhNy52"
      }
    },
    {
      "cell_type": "code",
      "source": [
        "'a b c d e f g'.split() #แยก string ที่ช่องว่าง"
      ],
      "metadata": {
        "id": "3RdMYfFQN4pc",
        "outputId": "4de8ea8f-7fb4-406a-9033-0c1db456a51f",
        "colab": {
          "base_uri": "https://localhost:8080/"
        }
      },
      "execution_count": 54,
      "outputs": [
        {
          "output_type": "execute_result",
          "data": {
            "text/plain": [
              "['a', 'b', 'c', 'd', 'e', 'f', 'g']"
            ]
          },
          "metadata": {},
          "execution_count": 54
        }
      ]
    },
    {
      "cell_type": "code",
      "source": [
        "'abc de fg'.split() #แยก string ที่ช่องว่าง"
      ],
      "metadata": {
        "id": "ASbR8KU8O-mG",
        "outputId": "8cfbc4df-5b31-4aa5-9085-af420c24402f",
        "colab": {
          "base_uri": "https://localhost:8080/"
        }
      },
      "execution_count": 56,
      "outputs": [
        {
          "output_type": "execute_result",
          "data": {
            "text/plain": [
              "['abc', 'de', 'fg']"
            ]
          },
          "metadata": {},
          "execution_count": 56
        }
      ]
    },
    {
      "cell_type": "code",
      "source": [
        "'a,b/c, d e/ f g'.split('/') #แยกดัวย /  split with /"
      ],
      "metadata": {
        "id": "CmXmhoIKObH0",
        "outputId": "758bd075-ed70-4c74-c80a-401d88e41faf",
        "colab": {
          "base_uri": "https://localhost:8080/"
        }
      },
      "execution_count": 55,
      "outputs": [
        {
          "output_type": "execute_result",
          "data": {
            "text/plain": [
              "['a,b', 'c, d e', ' f g']"
            ]
          },
          "metadata": {},
          "execution_count": 55
        }
      ]
    }
  ]
}