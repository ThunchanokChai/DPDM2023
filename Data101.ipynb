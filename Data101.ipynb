{
  "nbformat": 4,
  "nbformat_minor": 0,
  "metadata": {
    "colab": {
      "provenance": [],
      "toc_visible": true,
      "authorship_tag": "ABX9TyOeb/+OrFc/ytH+mOmuUOHw",
      "include_colab_link": true
    },
    "kernelspec": {
      "name": "python3",
      "display_name": "Python 3"
    },
    "language_info": {
      "name": "python"
    }
  },
  "cells": [
    {
      "cell_type": "markdown",
      "metadata": {
        "id": "view-in-github",
        "colab_type": "text"
      },
      "source": [
        "<a href=\"https://colab.research.google.com/github/ThunchanokChai/DPDM2023/blob/main/Data101.ipynb\" target=\"_parent\"><img src=\"https://colab.research.google.com/assets/colab-badge.svg\" alt=\"Open In Colab\"/></a>"
      ]
    },
    {
      "cell_type": "code",
      "execution_count": null,
      "metadata": {
        "id": "SONTPXQ91HoC"
      },
      "outputs": [],
      "source": []
    },
    {
      "cell_type": "markdown",
      "source": [
        "*pandas* คือ package ที่มีคนพัฒนาขึ้นมาเพื่อใช้จัดการข้อมูลที่มีลักษณะเป็นตาราง ซึ่งใน pandas เรียกว่า dataframe"
      ],
      "metadata": {
        "id": "sHKbmvWt1Uur"
      }
    },
    {
      "cell_type": "code",
      "source": [
        "import pandas # We use import to pandas define"
      ],
      "metadata": {
        "id": "S-36psm-27Sj"
      },
      "execution_count": null,
      "outputs": []
    },
    {
      "cell_type": "code",
      "source": [
        "import pandas as pd #import pandas and then name it as pd"
      ],
      "metadata": {
        "id": "ivMC_q6F3TDa"
      },
      "execution_count": null,
      "outputs": []
    },
    {
      "cell_type": "code",
      "source": [
        "data_df = pd.read_csv('/data.csv')"
      ],
      "metadata": {
        "id": "GUN9uQSz6clo"
      },
      "execution_count": null,
      "outputs": []
    },
    {
      "cell_type": "code",
      "source": [
        "data_df"
      ],
      "metadata": {
        "colab": {
          "base_uri": "https://localhost:8080/",
          "height": 142
        },
        "id": "YymHT75l7EzT",
        "outputId": "846eaaf4-ed8c-4aa0-a1b9-a99b61c596d4"
      },
      "execution_count": null,
      "outputs": [
        {
          "output_type": "execute_result",
          "data": {
            "text/plain": [
              "   Car_ID         Model   Year   Value   Pers_ID\n",
              "0     101       Bentley   1973  100000         0\n",
              "1     102   Rolls Royce   1965  330000         0\n",
              "2     103       Peuqeot   1993     500         3"
            ],
            "text/html": [
              "\n",
              "\n",
              "  <div id=\"df-29d4752a-8f69-4f07-a06d-35a33e3ce5da\">\n",
              "    <div class=\"colab-df-container\">\n",
              "      <div>\n",
              "<style scoped>\n",
              "    .dataframe tbody tr th:only-of-type {\n",
              "        vertical-align: middle;\n",
              "    }\n",
              "\n",
              "    .dataframe tbody tr th {\n",
              "        vertical-align: top;\n",
              "    }\n",
              "\n",
              "    .dataframe thead th {\n",
              "        text-align: right;\n",
              "    }\n",
              "</style>\n",
              "<table border=\"1\" class=\"dataframe\">\n",
              "  <thead>\n",
              "    <tr style=\"text-align: right;\">\n",
              "      <th></th>\n",
              "      <th>Car_ID</th>\n",
              "      <th>Model</th>\n",
              "      <th>Year</th>\n",
              "      <th>Value</th>\n",
              "      <th>Pers_ID</th>\n",
              "    </tr>\n",
              "  </thead>\n",
              "  <tbody>\n",
              "    <tr>\n",
              "      <th>0</th>\n",
              "      <td>101</td>\n",
              "      <td>Bentley</td>\n",
              "      <td>1973</td>\n",
              "      <td>100000</td>\n",
              "      <td>0</td>\n",
              "    </tr>\n",
              "    <tr>\n",
              "      <th>1</th>\n",
              "      <td>102</td>\n",
              "      <td>Rolls Royce</td>\n",
              "      <td>1965</td>\n",
              "      <td>330000</td>\n",
              "      <td>0</td>\n",
              "    </tr>\n",
              "    <tr>\n",
              "      <th>2</th>\n",
              "      <td>103</td>\n",
              "      <td>Peuqeot</td>\n",
              "      <td>1993</td>\n",
              "      <td>500</td>\n",
              "      <td>3</td>\n",
              "    </tr>\n",
              "  </tbody>\n",
              "</table>\n",
              "</div>\n",
              "      <button class=\"colab-df-convert\" onclick=\"convertToInteractive('df-29d4752a-8f69-4f07-a06d-35a33e3ce5da')\"\n",
              "              title=\"Convert this dataframe to an interactive table.\"\n",
              "              style=\"display:none;\">\n",
              "\n",
              "  <svg xmlns=\"http://www.w3.org/2000/svg\" height=\"24px\"viewBox=\"0 0 24 24\"\n",
              "       width=\"24px\">\n",
              "    <path d=\"M0 0h24v24H0V0z\" fill=\"none\"/>\n",
              "    <path d=\"M18.56 5.44l.94 2.06.94-2.06 2.06-.94-2.06-.94-.94-2.06-.94 2.06-2.06.94zm-11 1L8.5 8.5l.94-2.06 2.06-.94-2.06-.94L8.5 2.5l-.94 2.06-2.06.94zm10 10l.94 2.06.94-2.06 2.06-.94-2.06-.94-.94-2.06-.94 2.06-2.06.94z\"/><path d=\"M17.41 7.96l-1.37-1.37c-.4-.4-.92-.59-1.43-.59-.52 0-1.04.2-1.43.59L10.3 9.45l-7.72 7.72c-.78.78-.78 2.05 0 2.83L4 21.41c.39.39.9.59 1.41.59.51 0 1.02-.2 1.41-.59l7.78-7.78 2.81-2.81c.8-.78.8-2.07 0-2.86zM5.41 20L4 18.59l7.72-7.72 1.47 1.35L5.41 20z\"/>\n",
              "  </svg>\n",
              "      </button>\n",
              "\n",
              "\n",
              "\n",
              "    <div id=\"df-8b8dd625-1d85-4dd7-b5fc-3771b2400728\">\n",
              "      <button class=\"colab-df-quickchart\" onclick=\"quickchart('df-8b8dd625-1d85-4dd7-b5fc-3771b2400728')\"\n",
              "              title=\"Suggest charts.\"\n",
              "              style=\"display:none;\">\n",
              "\n",
              "<svg xmlns=\"http://www.w3.org/2000/svg\" height=\"24px\"viewBox=\"0 0 24 24\"\n",
              "     width=\"24px\">\n",
              "    <g>\n",
              "        <path d=\"M19 3H5c-1.1 0-2 .9-2 2v14c0 1.1.9 2 2 2h14c1.1 0 2-.9 2-2V5c0-1.1-.9-2-2-2zM9 17H7v-7h2v7zm4 0h-2V7h2v10zm4 0h-2v-4h2v4z\"/>\n",
              "    </g>\n",
              "</svg>\n",
              "      </button>\n",
              "    </div>\n",
              "\n",
              "<style>\n",
              "  .colab-df-quickchart {\n",
              "    background-color: #E8F0FE;\n",
              "    border: none;\n",
              "    border-radius: 50%;\n",
              "    cursor: pointer;\n",
              "    display: none;\n",
              "    fill: #1967D2;\n",
              "    height: 32px;\n",
              "    padding: 0 0 0 0;\n",
              "    width: 32px;\n",
              "  }\n",
              "\n",
              "  .colab-df-quickchart:hover {\n",
              "    background-color: #E2EBFA;\n",
              "    box-shadow: 0px 1px 2px rgba(60, 64, 67, 0.3), 0px 1px 3px 1px rgba(60, 64, 67, 0.15);\n",
              "    fill: #174EA6;\n",
              "  }\n",
              "\n",
              "  [theme=dark] .colab-df-quickchart {\n",
              "    background-color: #3B4455;\n",
              "    fill: #D2E3FC;\n",
              "  }\n",
              "\n",
              "  [theme=dark] .colab-df-quickchart:hover {\n",
              "    background-color: #434B5C;\n",
              "    box-shadow: 0px 1px 3px 1px rgba(0, 0, 0, 0.15);\n",
              "    filter: drop-shadow(0px 1px 2px rgba(0, 0, 0, 0.3));\n",
              "    fill: #FFFFFF;\n",
              "  }\n",
              "</style>\n",
              "\n",
              "    <script>\n",
              "      async function quickchart(key) {\n",
              "        const containerElement = document.querySelector('#' + key);\n",
              "        const charts = await google.colab.kernel.invokeFunction(\n",
              "            'suggestCharts', [key], {});\n",
              "      }\n",
              "    </script>\n",
              "\n",
              "      <script>\n",
              "\n",
              "function displayQuickchartButton(domScope) {\n",
              "  let quickchartButtonEl =\n",
              "    domScope.querySelector('#df-8b8dd625-1d85-4dd7-b5fc-3771b2400728 button.colab-df-quickchart');\n",
              "  quickchartButtonEl.style.display =\n",
              "    google.colab.kernel.accessAllowed ? 'block' : 'none';\n",
              "}\n",
              "\n",
              "        displayQuickchartButton(document);\n",
              "      </script>\n",
              "      <style>\n",
              "    .colab-df-container {\n",
              "      display:flex;\n",
              "      flex-wrap:wrap;\n",
              "      gap: 12px;\n",
              "    }\n",
              "\n",
              "    .colab-df-convert {\n",
              "      background-color: #E8F0FE;\n",
              "      border: none;\n",
              "      border-radius: 50%;\n",
              "      cursor: pointer;\n",
              "      display: none;\n",
              "      fill: #1967D2;\n",
              "      height: 32px;\n",
              "      padding: 0 0 0 0;\n",
              "      width: 32px;\n",
              "    }\n",
              "\n",
              "    .colab-df-convert:hover {\n",
              "      background-color: #E2EBFA;\n",
              "      box-shadow: 0px 1px 2px rgba(60, 64, 67, 0.3), 0px 1px 3px 1px rgba(60, 64, 67, 0.15);\n",
              "      fill: #174EA6;\n",
              "    }\n",
              "\n",
              "    [theme=dark] .colab-df-convert {\n",
              "      background-color: #3B4455;\n",
              "      fill: #D2E3FC;\n",
              "    }\n",
              "\n",
              "    [theme=dark] .colab-df-convert:hover {\n",
              "      background-color: #434B5C;\n",
              "      box-shadow: 0px 1px 3px 1px rgba(0, 0, 0, 0.15);\n",
              "      filter: drop-shadow(0px 1px 2px rgba(0, 0, 0, 0.3));\n",
              "      fill: #FFFFFF;\n",
              "    }\n",
              "  </style>\n",
              "\n",
              "      <script>\n",
              "        const buttonEl =\n",
              "          document.querySelector('#df-29d4752a-8f69-4f07-a06d-35a33e3ce5da button.colab-df-convert');\n",
              "        buttonEl.style.display =\n",
              "          google.colab.kernel.accessAllowed ? 'block' : 'none';\n",
              "\n",
              "        async function convertToInteractive(key) {\n",
              "          const element = document.querySelector('#df-29d4752a-8f69-4f07-a06d-35a33e3ce5da');\n",
              "          const dataTable =\n",
              "            await google.colab.kernel.invokeFunction('convertToInteractive',\n",
              "                                                     [key], {});\n",
              "          if (!dataTable) return;\n",
              "\n",
              "          const docLinkHtml = 'Like what you see? Visit the ' +\n",
              "            '<a target=\"_blank\" href=https://colab.research.google.com/notebooks/data_table.ipynb>data table notebook</a>'\n",
              "            + ' to learn more about interactive tables.';\n",
              "          element.innerHTML = '';\n",
              "          dataTable['output_type'] = 'display_data';\n",
              "          await google.colab.output.renderOutput(dataTable, element);\n",
              "          const docLink = document.createElement('div');\n",
              "          docLink.innerHTML = docLinkHtml;\n",
              "          element.appendChild(docLink);\n",
              "        }\n",
              "      </script>\n",
              "    </div>\n",
              "  </div>\n"
            ]
          },
          "metadata": {},
          "execution_count": 6
        }
      ]
    },
    {
      "cell_type": "markdown",
      "source": [
        "## Data Structure"
      ],
      "metadata": {
        "id": "PKWbs-IR81N9"
      }
    },
    {
      "cell_type": "markdown",
      "source": [
        "###List\n",
        "- list is a container to keep everything\n",
        "- it gives attention to order of the thing in the container"
      ],
      "metadata": {
        "id": "PBM3SLJf9HMW"
      }
    },
    {
      "cell_type": "code",
      "source": [
        "list_a = [1,2,3,0.9,'aaz', data_df] ## (square brackets)"
      ],
      "metadata": {
        "id": "_ZmnWS1W9ca2"
      },
      "execution_count": null,
      "outputs": []
    },
    {
      "cell_type": "code",
      "source": [
        "list_a"
      ],
      "metadata": {
        "colab": {
          "base_uri": "https://localhost:8080/"
        },
        "id": "gXI7PlEQ96Dh",
        "outputId": "1e2206ce-bdbf-4832-b623-28e38716afd7"
      },
      "execution_count": null,
      "outputs": [
        {
          "output_type": "execute_result",
          "data": {
            "text/plain": [
              "[1,\n",
              " 2,\n",
              " 3,\n",
              " 0.9,\n",
              " 'aaz',\n",
              "    Car_ID         Model   Year   Value   Pers_ID\n",
              " 0     101       Bentley   1973  100000         0\n",
              " 1     102   Rolls Royce   1965  330000         0\n",
              " 2     103       Peuqeot   1993     500         3]"
            ]
          },
          "metadata": {},
          "execution_count": 8
        }
      ]
    },
    {
      "cell_type": "markdown",
      "source": [
        "indexing [ ]"
      ],
      "metadata": {
        "id": "ZJ0YWgCP-GmZ"
      }
    },
    {
      "cell_type": "code",
      "source": [
        "list_a[0]"
      ],
      "metadata": {
        "colab": {
          "base_uri": "https://localhost:8080/"
        },
        "id": "QK3AgU_Q-Isd",
        "outputId": "3c356bb2-c060-4a5e-c422-4b1d6f9246b9"
      },
      "execution_count": null,
      "outputs": [
        {
          "output_type": "execute_result",
          "data": {
            "text/plain": [
              "1"
            ]
          },
          "metadata": {},
          "execution_count": 10
        }
      ]
    },
    {
      "cell_type": "code",
      "source": [
        "list_a[5]"
      ],
      "metadata": {
        "colab": {
          "base_uri": "https://localhost:8080/",
          "height": 142
        },
        "id": "Og3DdlNZ-RDo",
        "outputId": "1a05a66e-5a02-4fc8-c07e-7286935ba273"
      },
      "execution_count": null,
      "outputs": [
        {
          "output_type": "execute_result",
          "data": {
            "text/plain": [
              "   Car_ID         Model   Year   Value   Pers_ID\n",
              "0     101       Bentley   1973  100000         0\n",
              "1     102   Rolls Royce   1965  330000         0\n",
              "2     103       Peuqeot   1993     500         3"
            ],
            "text/html": [
              "\n",
              "\n",
              "  <div id=\"df-2851097e-42df-4fba-a2ee-66347de20acb\">\n",
              "    <div class=\"colab-df-container\">\n",
              "      <div>\n",
              "<style scoped>\n",
              "    .dataframe tbody tr th:only-of-type {\n",
              "        vertical-align: middle;\n",
              "    }\n",
              "\n",
              "    .dataframe tbody tr th {\n",
              "        vertical-align: top;\n",
              "    }\n",
              "\n",
              "    .dataframe thead th {\n",
              "        text-align: right;\n",
              "    }\n",
              "</style>\n",
              "<table border=\"1\" class=\"dataframe\">\n",
              "  <thead>\n",
              "    <tr style=\"text-align: right;\">\n",
              "      <th></th>\n",
              "      <th>Car_ID</th>\n",
              "      <th>Model</th>\n",
              "      <th>Year</th>\n",
              "      <th>Value</th>\n",
              "      <th>Pers_ID</th>\n",
              "    </tr>\n",
              "  </thead>\n",
              "  <tbody>\n",
              "    <tr>\n",
              "      <th>0</th>\n",
              "      <td>101</td>\n",
              "      <td>Bentley</td>\n",
              "      <td>1973</td>\n",
              "      <td>100000</td>\n",
              "      <td>0</td>\n",
              "    </tr>\n",
              "    <tr>\n",
              "      <th>1</th>\n",
              "      <td>102</td>\n",
              "      <td>Rolls Royce</td>\n",
              "      <td>1965</td>\n",
              "      <td>330000</td>\n",
              "      <td>0</td>\n",
              "    </tr>\n",
              "    <tr>\n",
              "      <th>2</th>\n",
              "      <td>103</td>\n",
              "      <td>Peuqeot</td>\n",
              "      <td>1993</td>\n",
              "      <td>500</td>\n",
              "      <td>3</td>\n",
              "    </tr>\n",
              "  </tbody>\n",
              "</table>\n",
              "</div>\n",
              "      <button class=\"colab-df-convert\" onclick=\"convertToInteractive('df-2851097e-42df-4fba-a2ee-66347de20acb')\"\n",
              "              title=\"Convert this dataframe to an interactive table.\"\n",
              "              style=\"display:none;\">\n",
              "\n",
              "  <svg xmlns=\"http://www.w3.org/2000/svg\" height=\"24px\"viewBox=\"0 0 24 24\"\n",
              "       width=\"24px\">\n",
              "    <path d=\"M0 0h24v24H0V0z\" fill=\"none\"/>\n",
              "    <path d=\"M18.56 5.44l.94 2.06.94-2.06 2.06-.94-2.06-.94-.94-2.06-.94 2.06-2.06.94zm-11 1L8.5 8.5l.94-2.06 2.06-.94-2.06-.94L8.5 2.5l-.94 2.06-2.06.94zm10 10l.94 2.06.94-2.06 2.06-.94-2.06-.94-.94-2.06-.94 2.06-2.06.94z\"/><path d=\"M17.41 7.96l-1.37-1.37c-.4-.4-.92-.59-1.43-.59-.52 0-1.04.2-1.43.59L10.3 9.45l-7.72 7.72c-.78.78-.78 2.05 0 2.83L4 21.41c.39.39.9.59 1.41.59.51 0 1.02-.2 1.41-.59l7.78-7.78 2.81-2.81c.8-.78.8-2.07 0-2.86zM5.41 20L4 18.59l7.72-7.72 1.47 1.35L5.41 20z\"/>\n",
              "  </svg>\n",
              "      </button>\n",
              "\n",
              "\n",
              "\n",
              "    <div id=\"df-178874d8-9029-453d-a96a-18de5231a90b\">\n",
              "      <button class=\"colab-df-quickchart\" onclick=\"quickchart('df-178874d8-9029-453d-a96a-18de5231a90b')\"\n",
              "              title=\"Suggest charts.\"\n",
              "              style=\"display:none;\">\n",
              "\n",
              "<svg xmlns=\"http://www.w3.org/2000/svg\" height=\"24px\"viewBox=\"0 0 24 24\"\n",
              "     width=\"24px\">\n",
              "    <g>\n",
              "        <path d=\"M19 3H5c-1.1 0-2 .9-2 2v14c0 1.1.9 2 2 2h14c1.1 0 2-.9 2-2V5c0-1.1-.9-2-2-2zM9 17H7v-7h2v7zm4 0h-2V7h2v10zm4 0h-2v-4h2v4z\"/>\n",
              "    </g>\n",
              "</svg>\n",
              "      </button>\n",
              "    </div>\n",
              "\n",
              "<style>\n",
              "  .colab-df-quickchart {\n",
              "    background-color: #E8F0FE;\n",
              "    border: none;\n",
              "    border-radius: 50%;\n",
              "    cursor: pointer;\n",
              "    display: none;\n",
              "    fill: #1967D2;\n",
              "    height: 32px;\n",
              "    padding: 0 0 0 0;\n",
              "    width: 32px;\n",
              "  }\n",
              "\n",
              "  .colab-df-quickchart:hover {\n",
              "    background-color: #E2EBFA;\n",
              "    box-shadow: 0px 1px 2px rgba(60, 64, 67, 0.3), 0px 1px 3px 1px rgba(60, 64, 67, 0.15);\n",
              "    fill: #174EA6;\n",
              "  }\n",
              "\n",
              "  [theme=dark] .colab-df-quickchart {\n",
              "    background-color: #3B4455;\n",
              "    fill: #D2E3FC;\n",
              "  }\n",
              "\n",
              "  [theme=dark] .colab-df-quickchart:hover {\n",
              "    background-color: #434B5C;\n",
              "    box-shadow: 0px 1px 3px 1px rgba(0, 0, 0, 0.15);\n",
              "    filter: drop-shadow(0px 1px 2px rgba(0, 0, 0, 0.3));\n",
              "    fill: #FFFFFF;\n",
              "  }\n",
              "</style>\n",
              "\n",
              "    <script>\n",
              "      async function quickchart(key) {\n",
              "        const containerElement = document.querySelector('#' + key);\n",
              "        const charts = await google.colab.kernel.invokeFunction(\n",
              "            'suggestCharts', [key], {});\n",
              "      }\n",
              "    </script>\n",
              "\n",
              "      <script>\n",
              "\n",
              "function displayQuickchartButton(domScope) {\n",
              "  let quickchartButtonEl =\n",
              "    domScope.querySelector('#df-178874d8-9029-453d-a96a-18de5231a90b button.colab-df-quickchart');\n",
              "  quickchartButtonEl.style.display =\n",
              "    google.colab.kernel.accessAllowed ? 'block' : 'none';\n",
              "}\n",
              "\n",
              "        displayQuickchartButton(document);\n",
              "      </script>\n",
              "      <style>\n",
              "    .colab-df-container {\n",
              "      display:flex;\n",
              "      flex-wrap:wrap;\n",
              "      gap: 12px;\n",
              "    }\n",
              "\n",
              "    .colab-df-convert {\n",
              "      background-color: #E8F0FE;\n",
              "      border: none;\n",
              "      border-radius: 50%;\n",
              "      cursor: pointer;\n",
              "      display: none;\n",
              "      fill: #1967D2;\n",
              "      height: 32px;\n",
              "      padding: 0 0 0 0;\n",
              "      width: 32px;\n",
              "    }\n",
              "\n",
              "    .colab-df-convert:hover {\n",
              "      background-color: #E2EBFA;\n",
              "      box-shadow: 0px 1px 2px rgba(60, 64, 67, 0.3), 0px 1px 3px 1px rgba(60, 64, 67, 0.15);\n",
              "      fill: #174EA6;\n",
              "    }\n",
              "\n",
              "    [theme=dark] .colab-df-convert {\n",
              "      background-color: #3B4455;\n",
              "      fill: #D2E3FC;\n",
              "    }\n",
              "\n",
              "    [theme=dark] .colab-df-convert:hover {\n",
              "      background-color: #434B5C;\n",
              "      box-shadow: 0px 1px 3px 1px rgba(0, 0, 0, 0.15);\n",
              "      filter: drop-shadow(0px 1px 2px rgba(0, 0, 0, 0.3));\n",
              "      fill: #FFFFFF;\n",
              "    }\n",
              "  </style>\n",
              "\n",
              "      <script>\n",
              "        const buttonEl =\n",
              "          document.querySelector('#df-2851097e-42df-4fba-a2ee-66347de20acb button.colab-df-convert');\n",
              "        buttonEl.style.display =\n",
              "          google.colab.kernel.accessAllowed ? 'block' : 'none';\n",
              "\n",
              "        async function convertToInteractive(key) {\n",
              "          const element = document.querySelector('#df-2851097e-42df-4fba-a2ee-66347de20acb');\n",
              "          const dataTable =\n",
              "            await google.colab.kernel.invokeFunction('convertToInteractive',\n",
              "                                                     [key], {});\n",
              "          if (!dataTable) return;\n",
              "\n",
              "          const docLinkHtml = 'Like what you see? Visit the ' +\n",
              "            '<a target=\"_blank\" href=https://colab.research.google.com/notebooks/data_table.ipynb>data table notebook</a>'\n",
              "            + ' to learn more about interactive tables.';\n",
              "          element.innerHTML = '';\n",
              "          dataTable['output_type'] = 'display_data';\n",
              "          await google.colab.output.renderOutput(dataTable, element);\n",
              "          const docLink = document.createElement('div');\n",
              "          docLink.innerHTML = docLinkHtml;\n",
              "          element.appendChild(docLink);\n",
              "        }\n",
              "      </script>\n",
              "    </div>\n",
              "  </div>\n"
            ]
          },
          "metadata": {},
          "execution_count": 11
        }
      ]
    },
    {
      "cell_type": "markdown",
      "source": [
        "*Negative* index to get value from the end of the list  \n",
        "อ่านมาจากข้างหลังสุด"
      ],
      "metadata": {
        "id": "lURg2p4V-VC5"
      }
    },
    {
      "cell_type": "code",
      "source": [
        "list_a[-1] # อ่านมาจากหลังสุด [-1] = [5]"
      ],
      "metadata": {
        "colab": {
          "base_uri": "https://localhost:8080/",
          "height": 142
        },
        "id": "CVLd3D4h-vdI",
        "outputId": "1cdb1ea1-1937-495b-be17-163bd53d3de7"
      },
      "execution_count": null,
      "outputs": [
        {
          "output_type": "execute_result",
          "data": {
            "text/plain": [
              "   Car_ID         Model   Year   Value   Pers_ID\n",
              "0     101       Bentley   1973  100000         0\n",
              "1     102   Rolls Royce   1965  330000         0\n",
              "2     103       Peuqeot   1993     500         3"
            ],
            "text/html": [
              "\n",
              "\n",
              "  <div id=\"df-de4ede4f-b696-44c8-8844-6b8841532146\">\n",
              "    <div class=\"colab-df-container\">\n",
              "      <div>\n",
              "<style scoped>\n",
              "    .dataframe tbody tr th:only-of-type {\n",
              "        vertical-align: middle;\n",
              "    }\n",
              "\n",
              "    .dataframe tbody tr th {\n",
              "        vertical-align: top;\n",
              "    }\n",
              "\n",
              "    .dataframe thead th {\n",
              "        text-align: right;\n",
              "    }\n",
              "</style>\n",
              "<table border=\"1\" class=\"dataframe\">\n",
              "  <thead>\n",
              "    <tr style=\"text-align: right;\">\n",
              "      <th></th>\n",
              "      <th>Car_ID</th>\n",
              "      <th>Model</th>\n",
              "      <th>Year</th>\n",
              "      <th>Value</th>\n",
              "      <th>Pers_ID</th>\n",
              "    </tr>\n",
              "  </thead>\n",
              "  <tbody>\n",
              "    <tr>\n",
              "      <th>0</th>\n",
              "      <td>101</td>\n",
              "      <td>Bentley</td>\n",
              "      <td>1973</td>\n",
              "      <td>100000</td>\n",
              "      <td>0</td>\n",
              "    </tr>\n",
              "    <tr>\n",
              "      <th>1</th>\n",
              "      <td>102</td>\n",
              "      <td>Rolls Royce</td>\n",
              "      <td>1965</td>\n",
              "      <td>330000</td>\n",
              "      <td>0</td>\n",
              "    </tr>\n",
              "    <tr>\n",
              "      <th>2</th>\n",
              "      <td>103</td>\n",
              "      <td>Peuqeot</td>\n",
              "      <td>1993</td>\n",
              "      <td>500</td>\n",
              "      <td>3</td>\n",
              "    </tr>\n",
              "  </tbody>\n",
              "</table>\n",
              "</div>\n",
              "      <button class=\"colab-df-convert\" onclick=\"convertToInteractive('df-de4ede4f-b696-44c8-8844-6b8841532146')\"\n",
              "              title=\"Convert this dataframe to an interactive table.\"\n",
              "              style=\"display:none;\">\n",
              "\n",
              "  <svg xmlns=\"http://www.w3.org/2000/svg\" height=\"24px\"viewBox=\"0 0 24 24\"\n",
              "       width=\"24px\">\n",
              "    <path d=\"M0 0h24v24H0V0z\" fill=\"none\"/>\n",
              "    <path d=\"M18.56 5.44l.94 2.06.94-2.06 2.06-.94-2.06-.94-.94-2.06-.94 2.06-2.06.94zm-11 1L8.5 8.5l.94-2.06 2.06-.94-2.06-.94L8.5 2.5l-.94 2.06-2.06.94zm10 10l.94 2.06.94-2.06 2.06-.94-2.06-.94-.94-2.06-.94 2.06-2.06.94z\"/><path d=\"M17.41 7.96l-1.37-1.37c-.4-.4-.92-.59-1.43-.59-.52 0-1.04.2-1.43.59L10.3 9.45l-7.72 7.72c-.78.78-.78 2.05 0 2.83L4 21.41c.39.39.9.59 1.41.59.51 0 1.02-.2 1.41-.59l7.78-7.78 2.81-2.81c.8-.78.8-2.07 0-2.86zM5.41 20L4 18.59l7.72-7.72 1.47 1.35L5.41 20z\"/>\n",
              "  </svg>\n",
              "      </button>\n",
              "\n",
              "\n",
              "\n",
              "    <div id=\"df-e50650c5-d545-4983-8c96-08bdffa57b48\">\n",
              "      <button class=\"colab-df-quickchart\" onclick=\"quickchart('df-e50650c5-d545-4983-8c96-08bdffa57b48')\"\n",
              "              title=\"Suggest charts.\"\n",
              "              style=\"display:none;\">\n",
              "\n",
              "<svg xmlns=\"http://www.w3.org/2000/svg\" height=\"24px\"viewBox=\"0 0 24 24\"\n",
              "     width=\"24px\">\n",
              "    <g>\n",
              "        <path d=\"M19 3H5c-1.1 0-2 .9-2 2v14c0 1.1.9 2 2 2h14c1.1 0 2-.9 2-2V5c0-1.1-.9-2-2-2zM9 17H7v-7h2v7zm4 0h-2V7h2v10zm4 0h-2v-4h2v4z\"/>\n",
              "    </g>\n",
              "</svg>\n",
              "      </button>\n",
              "    </div>\n",
              "\n",
              "<style>\n",
              "  .colab-df-quickchart {\n",
              "    background-color: #E8F0FE;\n",
              "    border: none;\n",
              "    border-radius: 50%;\n",
              "    cursor: pointer;\n",
              "    display: none;\n",
              "    fill: #1967D2;\n",
              "    height: 32px;\n",
              "    padding: 0 0 0 0;\n",
              "    width: 32px;\n",
              "  }\n",
              "\n",
              "  .colab-df-quickchart:hover {\n",
              "    background-color: #E2EBFA;\n",
              "    box-shadow: 0px 1px 2px rgba(60, 64, 67, 0.3), 0px 1px 3px 1px rgba(60, 64, 67, 0.15);\n",
              "    fill: #174EA6;\n",
              "  }\n",
              "\n",
              "  [theme=dark] .colab-df-quickchart {\n",
              "    background-color: #3B4455;\n",
              "    fill: #D2E3FC;\n",
              "  }\n",
              "\n",
              "  [theme=dark] .colab-df-quickchart:hover {\n",
              "    background-color: #434B5C;\n",
              "    box-shadow: 0px 1px 3px 1px rgba(0, 0, 0, 0.15);\n",
              "    filter: drop-shadow(0px 1px 2px rgba(0, 0, 0, 0.3));\n",
              "    fill: #FFFFFF;\n",
              "  }\n",
              "</style>\n",
              "\n",
              "    <script>\n",
              "      async function quickchart(key) {\n",
              "        const containerElement = document.querySelector('#' + key);\n",
              "        const charts = await google.colab.kernel.invokeFunction(\n",
              "            'suggestCharts', [key], {});\n",
              "      }\n",
              "    </script>\n",
              "\n",
              "      <script>\n",
              "\n",
              "function displayQuickchartButton(domScope) {\n",
              "  let quickchartButtonEl =\n",
              "    domScope.querySelector('#df-e50650c5-d545-4983-8c96-08bdffa57b48 button.colab-df-quickchart');\n",
              "  quickchartButtonEl.style.display =\n",
              "    google.colab.kernel.accessAllowed ? 'block' : 'none';\n",
              "}\n",
              "\n",
              "        displayQuickchartButton(document);\n",
              "      </script>\n",
              "      <style>\n",
              "    .colab-df-container {\n",
              "      display:flex;\n",
              "      flex-wrap:wrap;\n",
              "      gap: 12px;\n",
              "    }\n",
              "\n",
              "    .colab-df-convert {\n",
              "      background-color: #E8F0FE;\n",
              "      border: none;\n",
              "      border-radius: 50%;\n",
              "      cursor: pointer;\n",
              "      display: none;\n",
              "      fill: #1967D2;\n",
              "      height: 32px;\n",
              "      padding: 0 0 0 0;\n",
              "      width: 32px;\n",
              "    }\n",
              "\n",
              "    .colab-df-convert:hover {\n",
              "      background-color: #E2EBFA;\n",
              "      box-shadow: 0px 1px 2px rgba(60, 64, 67, 0.3), 0px 1px 3px 1px rgba(60, 64, 67, 0.15);\n",
              "      fill: #174EA6;\n",
              "    }\n",
              "\n",
              "    [theme=dark] .colab-df-convert {\n",
              "      background-color: #3B4455;\n",
              "      fill: #D2E3FC;\n",
              "    }\n",
              "\n",
              "    [theme=dark] .colab-df-convert:hover {\n",
              "      background-color: #434B5C;\n",
              "      box-shadow: 0px 1px 3px 1px rgba(0, 0, 0, 0.15);\n",
              "      filter: drop-shadow(0px 1px 2px rgba(0, 0, 0, 0.3));\n",
              "      fill: #FFFFFF;\n",
              "    }\n",
              "  </style>\n",
              "\n",
              "      <script>\n",
              "        const buttonEl =\n",
              "          document.querySelector('#df-de4ede4f-b696-44c8-8844-6b8841532146 button.colab-df-convert');\n",
              "        buttonEl.style.display =\n",
              "          google.colab.kernel.accessAllowed ? 'block' : 'none';\n",
              "\n",
              "        async function convertToInteractive(key) {\n",
              "          const element = document.querySelector('#df-de4ede4f-b696-44c8-8844-6b8841532146');\n",
              "          const dataTable =\n",
              "            await google.colab.kernel.invokeFunction('convertToInteractive',\n",
              "                                                     [key], {});\n",
              "          if (!dataTable) return;\n",
              "\n",
              "          const docLinkHtml = 'Like what you see? Visit the ' +\n",
              "            '<a target=\"_blank\" href=https://colab.research.google.com/notebooks/data_table.ipynb>data table notebook</a>'\n",
              "            + ' to learn more about interactive tables.';\n",
              "          element.innerHTML = '';\n",
              "          dataTable['output_type'] = 'display_data';\n",
              "          await google.colab.output.renderOutput(dataTable, element);\n",
              "          const docLink = document.createElement('div');\n",
              "          docLink.innerHTML = docLinkHtml;\n",
              "          element.appendChild(docLink);\n",
              "        }\n",
              "      </script>\n",
              "    </div>\n",
              "  </div>\n"
            ]
          },
          "metadata": {},
          "execution_count": 12
        }
      ]
    },
    {
      "cell_type": "code",
      "source": [
        "list_b = ['pizza', list_a,9] #list can keep list"
      ],
      "metadata": {
        "id": "9lAg05M8-4eO"
      },
      "execution_count": null,
      "outputs": []
    },
    {
      "cell_type": "code",
      "source": [
        "list_b"
      ],
      "metadata": {
        "colab": {
          "base_uri": "https://localhost:8080/"
        },
        "id": "O8sqlQIp_CMG",
        "outputId": "e5725682-d0ee-4a40-84c9-9f3011b62987"
      },
      "execution_count": null,
      "outputs": [
        {
          "output_type": "execute_result",
          "data": {
            "text/plain": [
              "['pizza',\n",
              " [1,\n",
              "  2,\n",
              "  3,\n",
              "  0.9,\n",
              "  'aaz',\n",
              "     Car_ID         Model   Year   Value   Pers_ID\n",
              "  0     101       Bentley   1973  100000         0\n",
              "  1     102   Rolls Royce   1965  330000         0\n",
              "  2     103       Peuqeot   1993     500         3],\n",
              " 9]"
            ]
          },
          "metadata": {},
          "execution_count": 16
        }
      ]
    },
    {
      "cell_type": "code",
      "source": [
        "list_b [1][3] # can use  2 indexing in the same time #งง"
      ],
      "metadata": {
        "colab": {
          "base_uri": "https://localhost:8080/"
        },
        "id": "UkZBEofz_b-0",
        "outputId": "e988f7a9-3e22-472d-87a9-d835bc367b5a"
      },
      "execution_count": null,
      "outputs": [
        {
          "output_type": "execute_result",
          "data": {
            "text/plain": [
              "0.9"
            ]
          },
          "metadata": {},
          "execution_count": 17
        }
      ]
    },
    {
      "cell_type": "markdown",
      "source": [
        "#### String is a list of characters"
      ],
      "metadata": {
        "id": "aSyfZ8cZAD_r"
      }
    },
    {
      "cell_type": "code",
      "source": [
        "x = 'shabu'\n",
        "x[-2] #ชี้ไปที่ตัด b\n"
      ],
      "metadata": {
        "colab": {
          "base_uri": "https://localhost:8080/",
          "height": 35
        },
        "id": "usiqsYRJAKdH",
        "outputId": "6afd6578-96fa-4562-a4ff-09059c4d717a"
      },
      "execution_count": null,
      "outputs": [
        {
          "output_type": "execute_result",
          "data": {
            "text/plain": [
              "'b'"
            ],
            "application/vnd.google.colaboratory.intrinsic+json": {
              "type": "string"
            }
          },
          "metadata": {},
          "execution_count": 18
        }
      ]
    },
    {
      "cell_type": "code",
      "source": [
        "print(list_a)"
      ],
      "metadata": {
        "colab": {
          "base_uri": "https://localhost:8080/"
        },
        "id": "XRArTcCpAYAe",
        "outputId": "80765839-23e8-4226-f178-fe809a648a92"
      },
      "execution_count": null,
      "outputs": [
        {
          "output_type": "stream",
          "name": "stdout",
          "text": [
            "[1, 2, 3, 0.9, 'aaz',    Car_ID         Model   Year   Value   Pers_ID\n",
            "0     101       Bentley   1973  100000         0\n",
            "1     102   Rolls Royce   1965  330000         0\n",
            "2     103       Peuqeot   1993     500         3]\n"
          ]
        }
      ]
    },
    {
      "cell_type": "code",
      "source": [
        "list_a + list_b # mix list_a and List_b"
      ],
      "metadata": {
        "colab": {
          "base_uri": "https://localhost:8080/"
        },
        "id": "KA2a1mafAdTo",
        "outputId": "b5c55c91-3fca-43d8-c8d4-cce139582248"
      },
      "execution_count": null,
      "outputs": [
        {
          "output_type": "execute_result",
          "data": {
            "text/plain": [
              "[1,\n",
              " 2,\n",
              " 3,\n",
              " 0.9,\n",
              " 'aaz',\n",
              "    Car_ID         Model   Year   Value   Pers_ID\n",
              " 0     101       Bentley   1973  100000         0\n",
              " 1     102   Rolls Royce   1965  330000         0\n",
              " 2     103       Peuqeot   1993     500         3,\n",
              " 'pizza',\n",
              " [1,\n",
              "  2,\n",
              "  3,\n",
              "  0.9,\n",
              "  'aaz',\n",
              "     Car_ID         Model   Year   Value   Pers_ID\n",
              "  0     101       Bentley   1973  100000         0\n",
              "  1     102   Rolls Royce   1965  330000         0\n",
              "  2     103       Peuqeot   1993     500         3],\n",
              " 9]"
            ]
          },
          "metadata": {},
          "execution_count": 20
        }
      ]
    },
    {
      "cell_type": "markdown",
      "source": [
        "#### Creating a list\n",
        "1. สร้าง list ว่าง\n",
        "2. เพิ่มสมาชิกเข้าไปใน list\n",
        "3. สามารถชี้ค่าใน list จากข้างหลังได้"
      ],
      "metadata": {
        "id": "2LnvyCziA3X1"
      }
    },
    {
      "cell_type": "markdown",
      "source": [
        "#####1. สร้าง list ว่าง"
      ],
      "metadata": {
        "id": "TbhbBSShBEhh"
      }
    },
    {
      "cell_type": "code",
      "source": [
        "list_aa = []\n",
        "list_aa"
      ],
      "metadata": {
        "colab": {
          "base_uri": "https://localhost:8080/"
        },
        "id": "o-p4NuoRBI-E",
        "outputId": "1559541c-8ebf-4ccc-99b9-7b0aa403a214"
      },
      "execution_count": 1,
      "outputs": [
        {
          "output_type": "execute_result",
          "data": {
            "text/plain": [
              "[]"
            ]
          },
          "metadata": {},
          "execution_count": 1
        }
      ]
    },
    {
      "cell_type": "code",
      "source": [
        "list_bb = list()\n",
        "print(list_bb)"
      ],
      "metadata": {
        "colab": {
          "base_uri": "https://localhost:8080/"
        },
        "id": "ZAjzYelYBN-n",
        "outputId": "85a0e859-3d4e-4b0d-8043-fbf7c9e7ce51"
      },
      "execution_count": 2,
      "outputs": [
        {
          "output_type": "stream",
          "name": "stdout",
          "text": [
            "[]\n"
          ]
        }
      ]
    },
    {
      "cell_type": "markdown",
      "source": [
        "2. adding a member to the list (.append())"
      ],
      "metadata": {
        "id": "md_JsCHsBVlJ"
      }
    },
    {
      "cell_type": "code",
      "source": [
        "list_aa.append('chiken')"
      ],
      "metadata": {
        "id": "h3u0tRyABdXo"
      },
      "execution_count": 3,
      "outputs": []
    },
    {
      "cell_type": "code",
      "source": [
        "list_aa.append('water')"
      ],
      "metadata": {
        "id": "uvT9kZzIJV12"
      },
      "execution_count": 4,
      "outputs": []
    },
    {
      "cell_type": "code",
      "source": [
        "list_aa.append('vegetable')"
      ],
      "metadata": {
        "id": "kbSXYSaCJVr8"
      },
      "execution_count": 5,
      "outputs": []
    },
    {
      "cell_type": "code",
      "source": [
        "list_aa.append('rice')\n",
        "list_aa"
      ],
      "metadata": {
        "colab": {
          "base_uri": "https://localhost:8080/"
        },
        "id": "apU2n29zBxCe",
        "outputId": "9aa4b23c-fb93-448e-aae9-124380b8481a"
      },
      "execution_count": 6,
      "outputs": [
        {
          "output_type": "execute_result",
          "data": {
            "text/plain": [
              "['chiken', 'water', 'vegetable', 'rice']"
            ]
          },
          "metadata": {},
          "execution_count": 6
        }
      ]
    },
    {
      "cell_type": "code",
      "source": [
        "list_aa[-1] # หลังสุด"
      ],
      "metadata": {
        "colab": {
          "base_uri": "https://localhost:8080/",
          "height": 35
        },
        "id": "LqCrvw85CDF6",
        "outputId": "bd198526-85a1-4128-feaa-d1c2d9fa9337"
      },
      "execution_count": 7,
      "outputs": [
        {
          "output_type": "execute_result",
          "data": {
            "text/plain": [
              "'rice'"
            ],
            "application/vnd.google.colaboratory.intrinsic+json": {
              "type": "string"
            }
          },
          "metadata": {},
          "execution_count": 7
        }
      ]
    },
    {
      "cell_type": "code",
      "source": [
        "list_aa.append('plate')\n",
        "list_aa"
      ],
      "metadata": {
        "colab": {
          "base_uri": "https://localhost:8080/"
        },
        "id": "thzK77fKCCbD",
        "outputId": "e3b4ec5c-314b-4877-8085-5871608e54d2"
      },
      "execution_count": 8,
      "outputs": [
        {
          "output_type": "execute_result",
          "data": {
            "text/plain": [
              "['chiken', 'water', 'vegetable', 'rice', 'plate']"
            ]
          },
          "metadata": {},
          "execution_count": 8
        }
      ]
    },
    {
      "cell_type": "code",
      "source": [
        "list_aa.append('spoon')\n",
        "list_aa.append('fork')\n",
        "list_aa.append('knife')\n",
        "list_aa.append('apple')"
      ],
      "metadata": {
        "id": "-X3zKOIjHD-y"
      },
      "execution_count": 9,
      "outputs": []
    },
    {
      "cell_type": "markdown",
      "source": [
        "####List slicing"
      ],
      "metadata": {
        "id": "82OFBcsqEqfy"
      }
    },
    {
      "cell_type": "markdown",
      "source": [
        "we cut part of the list using : (colon)\n",
        "[start:end:step]\n",
        "\n",
        "- เหมือนสัญลักษณ์ของเส้นจำนวน ตัวหน้าคือวงกลมทึบ, ตัวหลังคือวงกลมโป่ง\n"
      ],
      "metadata": {
        "id": "Z6OaRmNUExAx"
      }
    },
    {
      "cell_type": "code",
      "source": [
        "list_aa"
      ],
      "metadata": {
        "colab": {
          "base_uri": "https://localhost:8080/"
        },
        "id": "ZGjOGLFRHYb_",
        "outputId": "f1a5a9ab-5125-4b82-999b-2406749c35c1"
      },
      "execution_count": 10,
      "outputs": [
        {
          "output_type": "execute_result",
          "data": {
            "text/plain": [
              "['chiken',\n",
              " 'water',\n",
              " 'vegetable',\n",
              " 'rice',\n",
              " 'plate',\n",
              " 'spoon',\n",
              " 'fork',\n",
              " 'knife',\n",
              " 'apple']"
            ]
          },
          "metadata": {},
          "execution_count": 10
        }
      ]
    },
    {
      "cell_type": "code",
      "source": [
        "list_aa[2:7:1]"
      ],
      "metadata": {
        "colab": {
          "base_uri": "https://localhost:8080/"
        },
        "id": "1nrlmFDXHk6R",
        "outputId": "a8a6f281-bb65-44e1-8660-f34a561a76ec"
      },
      "execution_count": 11,
      "outputs": [
        {
          "output_type": "execute_result",
          "data": {
            "text/plain": [
              "['vegetable', 'rice', 'plate', 'spoon', 'fork']"
            ]
          },
          "metadata": {},
          "execution_count": 11
        }
      ]
    },
    {
      "cell_type": "code",
      "source": [
        "list_aa[2:7] #ไม่ต้องใส่ 1 ก็ได้"
      ],
      "metadata": {
        "colab": {
          "base_uri": "https://localhost:8080/"
        },
        "id": "uJq8CIK2HwDz",
        "outputId": "75c523e0-d54d-442e-d687-521fe8e22a82"
      },
      "execution_count": 12,
      "outputs": [
        {
          "output_type": "execute_result",
          "data": {
            "text/plain": [
              "['vegetable', 'rice', 'plate', 'spoon', 'fork']"
            ]
          },
          "metadata": {},
          "execution_count": 12
        }
      ]
    },
    {
      "cell_type": "code",
      "source": [
        "list_aa[2:] #เริ่มตั้งแต่ 2 ถึงตัวสุดท้าย"
      ],
      "metadata": {
        "colab": {
          "base_uri": "https://localhost:8080/"
        },
        "id": "1PwXiqK3H9tw",
        "outputId": "e11ad725-6f1d-4b92-cce2-2723c612980f"
      },
      "execution_count": 13,
      "outputs": [
        {
          "output_type": "execute_result",
          "data": {
            "text/plain": [
              "['vegetable', 'rice', 'plate', 'spoon', 'fork', 'knife', 'apple']"
            ]
          },
          "metadata": {},
          "execution_count": 13
        }
      ]
    },
    {
      "cell_type": "code",
      "source": [
        "list_aa[:5] #เริ่มจากตัวแรก ถึงตัวก่อน 5"
      ],
      "metadata": {
        "colab": {
          "base_uri": "https://localhost:8080/"
        },
        "id": "6khmpEblIHiY",
        "outputId": "21e0f1d8-8ebf-4406-8718-f7f5921b5ce0"
      },
      "execution_count": 14,
      "outputs": [
        {
          "output_type": "execute_result",
          "data": {
            "text/plain": [
              "['chiken', 'water', 'vegetable', 'rice', 'plate']"
            ]
          },
          "metadata": {},
          "execution_count": 14
        }
      ]
    },
    {
      "cell_type": "code",
      "source": [
        "list_aa[:5:2] #เริ่มจากตัวแรก ถึงตัวก่อน 5 โดยไปที่ละ 2"
      ],
      "metadata": {
        "colab": {
          "base_uri": "https://localhost:8080/"
        },
        "id": "HINvUn3AIWY3",
        "outputId": "d81fe2d5-f3e8-40d7-beee-4e693eb73c04"
      },
      "execution_count": 15,
      "outputs": [
        {
          "output_type": "execute_result",
          "data": {
            "text/plain": [
              "['chiken', 'vegetable', 'plate']"
            ]
          },
          "metadata": {},
          "execution_count": 15
        }
      ]
    },
    {
      "cell_type": "code",
      "source": [
        "list_aa[::-1] #เริ่มตามตัวแรกไปตัวสุดท้ายแต่เริ่มจากหลังสุด"
      ],
      "metadata": {
        "colab": {
          "base_uri": "https://localhost:8080/"
        },
        "id": "YIvz9vKeImir",
        "outputId": "4a52f2dc-1b97-43a9-89db-979bb9e4a2c4"
      },
      "execution_count": 16,
      "outputs": [
        {
          "output_type": "execute_result",
          "data": {
            "text/plain": [
              "['apple',\n",
              " 'knife',\n",
              " 'fork',\n",
              " 'spoon',\n",
              " 'plate',\n",
              " 'rice',\n",
              " 'vegetable',\n",
              " 'water',\n",
              " 'chiken']"
            ]
          },
          "metadata": {},
          "execution_count": 16
        }
      ]
    },
    {
      "cell_type": "markdown",
      "source": [
        "### **Quiz 1**\n",
        "cut the following part of lists from list_aa"
      ],
      "metadata": {
        "id": "KQpiIWXWI34L"
      }
    },
    {
      "cell_type": "markdown",
      "source": [
        "### Looping\n",
        "to make the code to reptitive works\n",
        "[indent]\n",
        "```python\n",
        "for each_member_of_the_list in the_list_we_want_to_loop  :\n",
        "    do something\n",
        "    do another thing\n",
        "\n",
        "this is outside the loop\n",
        "\n",
        "```"
      ],
      "metadata": {
        "id": "oxVu6j1kJmRu"
      }
    },
    {
      "cell_type": "code",
      "source": [
        "list_aa"
      ],
      "metadata": {
        "colab": {
          "base_uri": "https://localhost:8080/"
        },
        "id": "qxSf4kjnKWeJ",
        "outputId": "1caaf573-dbc6-4993-a03f-de58a7172352"
      },
      "execution_count": 17,
      "outputs": [
        {
          "output_type": "execute_result",
          "data": {
            "text/plain": [
              "['chiken',\n",
              " 'water',\n",
              " 'vegetable',\n",
              " 'rice',\n",
              " 'plate',\n",
              " 'spoon',\n",
              " 'fork',\n",
              " 'knife',\n",
              " 'apple']"
            ]
          },
          "metadata": {},
          "execution_count": 17
        }
      ]
    },
    {
      "cell_type": "code",
      "source": [
        "for each in list_aa:\n",
        "  print(each)"
      ],
      "metadata": {
        "colab": {
          "base_uri": "https://localhost:8080/"
        },
        "id": "PFXSyVHrKY4n",
        "outputId": "f978442a-e723-453f-ae3e-77552df6d094"
      },
      "execution_count": 18,
      "outputs": [
        {
          "output_type": "stream",
          "name": "stdout",
          "text": [
            "chiken\n",
            "water\n",
            "vegetable\n",
            "rice\n",
            "plate\n",
            "spoon\n",
            "fork\n",
            "knife\n",
            "apple\n"
          ]
        }
      ]
    },
    {
      "cell_type": "code",
      "source": [
        "for i in [1,2,3]:\n",
        "  print(i,end='')\n",
        "  print('xx')"
      ],
      "metadata": {
        "colab": {
          "base_uri": "https://localhost:8080/"
        },
        "id": "jnn27ZdIKt_G",
        "outputId": "836b2411-e6c3-4ebe-9ac0-b6c3e64a0840"
      },
      "execution_count": 19,
      "outputs": [
        {
          "output_type": "stream",
          "name": "stdout",
          "text": [
            "1xx\n",
            "2xx\n",
            "3xx\n"
          ]
        }
      ]
    },
    {
      "cell_type": "code",
      "source": [
        "for i in list_aa:\n",
        "    print(f'now i is {i}')\n",
        "    print(f'I like to eat {i}\\n/////////////////')"
      ],
      "metadata": {
        "colab": {
          "base_uri": "https://localhost:8080/"
        },
        "id": "ETE6FJ0vLXy1",
        "outputId": "23158765-033b-416e-ca46-5d9b5a1ca308"
      },
      "execution_count": 20,
      "outputs": [
        {
          "output_type": "stream",
          "name": "stdout",
          "text": [
            "now i is chiken\n",
            "I like to eat chiken\n",
            "/////////////////\n",
            "now i is water\n",
            "I like to eat water\n",
            "/////////////////\n",
            "now i is vegetable\n",
            "I like to eat vegetable\n",
            "/////////////////\n",
            "now i is rice\n",
            "I like to eat rice\n",
            "/////////////////\n",
            "now i is plate\n",
            "I like to eat plate\n",
            "/////////////////\n",
            "now i is spoon\n",
            "I like to eat spoon\n",
            "/////////////////\n",
            "now i is fork\n",
            "I like to eat fork\n",
            "/////////////////\n",
            "now i is knife\n",
            "I like to eat knife\n",
            "/////////////////\n",
            "now i is apple\n",
            "I like to eat apple\n",
            "/////////////////\n"
          ]
        }
      ]
    },
    {
      "cell_type": "code",
      "source": [
        "list(range(10)) #range ฟังก์ชันเอาไปสร้างตัวเลข range(10)= สร้างจาก 0 to 9"
      ],
      "metadata": {
        "colab": {
          "base_uri": "https://localhost:8080/"
        },
        "id": "a41l03_gMntE",
        "outputId": "5376d43e-ef5b-4f35-e87b-b23b89840419"
      },
      "execution_count": 21,
      "outputs": [
        {
          "output_type": "execute_result",
          "data": {
            "text/plain": [
              "[0, 1, 2, 3, 4, 5, 6, 7, 8, 9]"
            ]
          },
          "metadata": {},
          "execution_count": 21
        }
      ]
    },
    {
      "cell_type": "code",
      "source": [
        "list(range(10,20,2)) # , ,เหมือนกับ List slicing"
      ],
      "metadata": {
        "colab": {
          "base_uri": "https://localhost:8080/"
        },
        "id": "mEJ-OW9zNJzE",
        "outputId": "ec09ba5d-6aa8-43ec-f6df-a902422ce8d2"
      },
      "execution_count": 22,
      "outputs": [
        {
          "output_type": "execute_result",
          "data": {
            "text/plain": [
              "[10, 12, 14, 16, 18]"
            ]
          },
          "metadata": {},
          "execution_count": 22
        }
      ]
    },
    {
      "cell_type": "code",
      "source": [],
      "metadata": {
        "id": "8ckYzFEoNMq9"
      },
      "execution_count": 22,
      "outputs": []
    },
    {
      "cell_type": "markdown",
      "source": [
        "####Nested loop"
      ],
      "metadata": {
        "id": "Eko2Ml7ervaJ"
      }
    },
    {
      "cell_type": "markdown",
      "source": [
        "loop ซ้อน loop"
      ],
      "metadata": {
        "id": "ZRPxckGMsu4h"
      }
    },
    {
      "cell_type": "code",
      "source": [
        "for i in range(3):\n",
        "    print(f'i = {i} (outer loop)')\n",
        "    for j in range(2):\n",
        "      print(f'i = {i}, j = {j}, i+j = {i+j}(inner loop)') # you can note that which one is outer and inner"
      ],
      "metadata": {
        "colab": {
          "base_uri": "https://localhost:8080/"
        },
        "id": "iH77AlO4rzlP",
        "outputId": "a0fbc295-b952-4d45-9fe8-654b12e8eacf"
      },
      "execution_count": 23,
      "outputs": [
        {
          "output_type": "stream",
          "name": "stdout",
          "text": [
            "i = 0 (outer loop)\n",
            "i = 0, j = 0, i+j = 0(inner loop)\n",
            "i = 0, j = 1, i+j = 1(inner loop)\n",
            "i = 1 (outer loop)\n",
            "i = 1, j = 0, i+j = 1(inner loop)\n",
            "i = 1, j = 1, i+j = 2(inner loop)\n",
            "i = 2 (outer loop)\n",
            "i = 2, j = 0, i+j = 2(inner loop)\n",
            "i = 2, j = 1, i+j = 3(inner loop)\n"
          ]
        }
      ]
    },
    {
      "cell_type": "markdown",
      "source": [
        "#### Example 1\n",
        "\n",
        "สร้าง list [[1],[1,1], [1,1,1],...,[1,1,1,1,1,1,1,1,1,1] โดยใช้ for loop"
      ],
      "metadata": {
        "id": "-qFO-Luftnux"
      }
    },
    {
      "cell_type": "code",
      "source": [
        "list_A = []\n",
        "for i in range (10) :\n",
        "  AA = []\n",
        "  for j in range (i+1):\n",
        "    A=1\n",
        "    AA.append(A)\n",
        "  list_A.append(AA)"
      ],
      "metadata": {
        "id": "oa9LPCeXt3Sd"
      },
      "execution_count": 24,
      "outputs": []
    },
    {
      "cell_type": "code",
      "source": [
        "list_A"
      ],
      "metadata": {
        "colab": {
          "base_uri": "https://localhost:8080/"
        },
        "id": "XeP_NS29uP0O",
        "outputId": "8d520c92-c73a-4b42-9c76-12cea92c1023"
      },
      "execution_count": 25,
      "outputs": [
        {
          "output_type": "execute_result",
          "data": {
            "text/plain": [
              "[[1],\n",
              " [1, 1],\n",
              " [1, 1, 1],\n",
              " [1, 1, 1, 1],\n",
              " [1, 1, 1, 1, 1],\n",
              " [1, 1, 1, 1, 1, 1],\n",
              " [1, 1, 1, 1, 1, 1, 1],\n",
              " [1, 1, 1, 1, 1, 1, 1, 1],\n",
              " [1, 1, 1, 1, 1, 1, 1, 1, 1],\n",
              " [1, 1, 1, 1, 1, 1, 1, 1, 1, 1]]"
            ]
          },
          "metadata": {},
          "execution_count": 25
        }
      ]
    },
    {
      "cell_type": "code",
      "source": [
        "## answer\n",
        "list_ans = []\n",
        "print(f'list_ans = {list_ans}\\n ---------')\n",
        "for i in range(1, 11):\n",
        "    temp = []\n",
        "    #print(f'temp = {temp}')\n",
        "    for j in range(i):\n",
        "        temp.append(1)\n",
        "    print(f'i ={i} j = {j} temp = {temp}')\n",
        "    list_ans.append(temp)\n",
        "    print(f'list_ans = {list_ans}\\n ---------')\n",
        "\n",
        "print(list_ans)"
      ],
      "metadata": {
        "colab": {
          "base_uri": "https://localhost:8080/"
        },
        "id": "BA2K9BebuqaP",
        "outputId": "bab81683-83ec-4aba-9fec-fc72d20d9811"
      },
      "execution_count": 26,
      "outputs": [
        {
          "output_type": "stream",
          "name": "stdout",
          "text": [
            "list_ans = []\n",
            " ---------\n",
            "i =1 j = 0 temp = [1]\n",
            "list_ans = [[1]]\n",
            " ---------\n",
            "i =2 j = 1 temp = [1, 1]\n",
            "list_ans = [[1], [1, 1]]\n",
            " ---------\n",
            "i =3 j = 2 temp = [1, 1, 1]\n",
            "list_ans = [[1], [1, 1], [1, 1, 1]]\n",
            " ---------\n",
            "i =4 j = 3 temp = [1, 1, 1, 1]\n",
            "list_ans = [[1], [1, 1], [1, 1, 1], [1, 1, 1, 1]]\n",
            " ---------\n",
            "i =5 j = 4 temp = [1, 1, 1, 1, 1]\n",
            "list_ans = [[1], [1, 1], [1, 1, 1], [1, 1, 1, 1], [1, 1, 1, 1, 1]]\n",
            " ---------\n",
            "i =6 j = 5 temp = [1, 1, 1, 1, 1, 1]\n",
            "list_ans = [[1], [1, 1], [1, 1, 1], [1, 1, 1, 1], [1, 1, 1, 1, 1], [1, 1, 1, 1, 1, 1]]\n",
            " ---------\n",
            "i =7 j = 6 temp = [1, 1, 1, 1, 1, 1, 1]\n",
            "list_ans = [[1], [1, 1], [1, 1, 1], [1, 1, 1, 1], [1, 1, 1, 1, 1], [1, 1, 1, 1, 1, 1], [1, 1, 1, 1, 1, 1, 1]]\n",
            " ---------\n",
            "i =8 j = 7 temp = [1, 1, 1, 1, 1, 1, 1, 1]\n",
            "list_ans = [[1], [1, 1], [1, 1, 1], [1, 1, 1, 1], [1, 1, 1, 1, 1], [1, 1, 1, 1, 1, 1], [1, 1, 1, 1, 1, 1, 1], [1, 1, 1, 1, 1, 1, 1, 1]]\n",
            " ---------\n",
            "i =9 j = 8 temp = [1, 1, 1, 1, 1, 1, 1, 1, 1]\n",
            "list_ans = [[1], [1, 1], [1, 1, 1], [1, 1, 1, 1], [1, 1, 1, 1, 1], [1, 1, 1, 1, 1, 1], [1, 1, 1, 1, 1, 1, 1], [1, 1, 1, 1, 1, 1, 1, 1], [1, 1, 1, 1, 1, 1, 1, 1, 1]]\n",
            " ---------\n",
            "i =10 j = 9 temp = [1, 1, 1, 1, 1, 1, 1, 1, 1, 1]\n",
            "list_ans = [[1], [1, 1], [1, 1, 1], [1, 1, 1, 1], [1, 1, 1, 1, 1], [1, 1, 1, 1, 1, 1], [1, 1, 1, 1, 1, 1, 1], [1, 1, 1, 1, 1, 1, 1, 1], [1, 1, 1, 1, 1, 1, 1, 1, 1], [1, 1, 1, 1, 1, 1, 1, 1, 1, 1]]\n",
            " ---------\n",
            "[[1], [1, 1], [1, 1, 1], [1, 1, 1, 1], [1, 1, 1, 1, 1], [1, 1, 1, 1, 1, 1], [1, 1, 1, 1, 1, 1, 1], [1, 1, 1, 1, 1, 1, 1, 1], [1, 1, 1, 1, 1, 1, 1, 1, 1], [1, 1, 1, 1, 1, 1, 1, 1, 1, 1]]\n"
          ]
        }
      ]
    },
    {
      "cell_type": "markdown",
      "source": [
        "###Quiz 2\n",
        "create a list\n",
        "[[a],[a,b], [a,b,c] ,...,[a,b,c,d,e,f,g,h,i] with for loop"
      ],
      "metadata": {
        "id": "mYaqx8XnwBJ3"
      }
    },
    {
      "cell_type": "code",
      "source": [
        "list_Quiz = []\n",
        "for i in range (65,75) :\n",
        "  AA = []\n",
        "  print(chr(i))\n",
        "  for j in range (65+1):\n",
        "    A=65\n",
        "    AA.append(A)\n",
        "  list_A.append(AA)"
      ],
      "metadata": {
        "colab": {
          "base_uri": "https://localhost:8080/"
        },
        "id": "cDBpPfQOwdG0",
        "outputId": "47d2d74a-02c2-475e-f3d2-9fca2060360f"
      },
      "execution_count": 27,
      "outputs": [
        {
          "output_type": "stream",
          "name": "stdout",
          "text": [
            "A\n",
            "B\n",
            "C\n",
            "D\n",
            "E\n",
            "F\n",
            "G\n",
            "H\n",
            "I\n",
            "J\n"
          ]
        }
      ]
    },
    {
      "cell_type": "code",
      "source": [
        "# answer Quiz2\n",
        "\n",
        "listofletters = ['a','b','c','d','e','f','g','h','i','j']\n",
        "list_A = []\n",
        "for i in range (1,11):\n",
        "        list_A.append(listofletters[:i])"
      ],
      "metadata": {
        "id": "YcWihrmW16jm"
      },
      "execution_count": 28,
      "outputs": []
    },
    {
      "cell_type": "code",
      "source": [
        "list_A"
      ],
      "metadata": {
        "colab": {
          "base_uri": "https://localhost:8080/"
        },
        "id": "d58lSLbX3G8N",
        "outputId": "4bc135a3-145a-471b-ee27-19a97929f110"
      },
      "execution_count": 29,
      "outputs": [
        {
          "output_type": "execute_result",
          "data": {
            "text/plain": [
              "[['a'],\n",
              " ['a', 'b'],\n",
              " ['a', 'b', 'c'],\n",
              " ['a', 'b', 'c', 'd'],\n",
              " ['a', 'b', 'c', 'd', 'e'],\n",
              " ['a', 'b', 'c', 'd', 'e', 'f'],\n",
              " ['a', 'b', 'c', 'd', 'e', 'f', 'g'],\n",
              " ['a', 'b', 'c', 'd', 'e', 'f', 'g', 'h'],\n",
              " ['a', 'b', 'c', 'd', 'e', 'f', 'g', 'h', 'i'],\n",
              " ['a', 'b', 'c', 'd', 'e', 'f', 'g', 'h', 'i', 'j']]"
            ]
          },
          "metadata": {},
          "execution_count": 29
        }
      ]
    },
    {
      "cell_type": "markdown",
      "source": [
        "### Conditional Statement (if statement)\n",
        "\n",
        "\n",
        "``` python\n",
        "if เงื่อนไขที่เราจะตรวจสอบ (โดยอาศัยสัญลักษณ์เหล่านี้ ==, !=, <, >, <=, >=, in, is_null()) :\n",
        "    Do this when the condition is True #1\n",
        "    Do this when the condition is True #2\n",
        "elif เงื่อนไขที่เราจะตรวจสอบต่อไปนี้ถ้าเงื่อนไขข้างบนไม่เป็นจริง:\n",
        "    Do this when the condition 1 is False and condition 2 is True #1\n",
        "    Do this when the condition 1 is False and condition 2 is True #2\n",
        "elif เงื่อนไขที่เราจะตรวจสอบต่อไปนี้ถ้าเงื่อนไขข้างบนไม่เป็นจริง:\n",
        "    ถ้าเงื่อนไขเป็นจริง ทำงานที่ b1\n",
        "    ถ้าเงื่อนไขเป็นจริง ทำงานที่ b2\n",
        "else: # ตรวจสอบเงื่อนไขข้างบนแล้วไม่เป็นจริง\n",
        "    ทำงานที่ x\n",
        "```"
      ],
      "metadata": {
        "id": "m59HHqD24Ajc"
      }
    },
    {
      "cell_type": "code",
      "source": [
        "if 1<5 :\n",
        "  print('yes')"
      ],
      "metadata": {
        "id": "ZNivtUBj30oQ",
        "outputId": "fbc580eb-f5da-4000-eb82-08e3b0548977",
        "colab": {
          "base_uri": "https://localhost:8080/"
        }
      },
      "execution_count": 30,
      "outputs": [
        {
          "output_type": "stream",
          "name": "stdout",
          "text": [
            "yes\n"
          ]
        }
      ]
    },
    {
      "cell_type": "code",
      "source": [
        "x = 12\n",
        "if x< 5:\n",
        "  print('yes')\n",
        "else:\n",
        "  print('no')"
      ],
      "metadata": {
        "id": "JU37yzr14xCd",
        "outputId": "1ac4c0f7-0850-410f-c1f8-bc1d679d9c48",
        "colab": {
          "base_uri": "https://localhost:8080/"
        }
      },
      "execution_count": 31,
      "outputs": [
        {
          "output_type": "stream",
          "name": "stdout",
          "text": [
            "no\n"
          ]
        }
      ]
    },
    {
      "cell_type": "markdown",
      "source": [
        "#### Example\n",
        "list_ex = [1,5,9,-19,-2,0] #หาค่าน้อยที่สุดใน list_ex โดยไม่ใช่ function min (ใช้ for กับ if)"
      ],
      "metadata": {
        "id": "FH4TPPe75h4d"
      }
    },
    {
      "cell_type": "code",
      "source": [
        "list_ex = [1,5,9,-19,-2,0]"
      ],
      "metadata": {
        "id": "qtM5CNIH7Sgn"
      },
      "execution_count": 32,
      "outputs": []
    },
    {
      "cell_type": "code",
      "source": [
        "minimum = list_ex[0]\n",
        "for number in list_ex:\n",
        "    if minimum > number:\n",
        "       minimum = number\n",
        "print(minimum)"
      ],
      "metadata": {
        "id": "XVC3-WXv7FSb",
        "outputId": "225f2183-dcb4-4ff0-910c-807364b7ad08",
        "colab": {
          "base_uri": "https://localhost:8080/"
        }
      },
      "execution_count": 33,
      "outputs": [
        {
          "output_type": "stream",
          "name": "stdout",
          "text": [
            "-19\n"
          ]
        }
      ]
    },
    {
      "cell_type": "code",
      "source": [
        "##เฉลย\n",
        "min = 100000000\n",
        "print(list_ex)\n",
        "for i in list_ex:\n",
        "    print(f'now i = {i}, min = {min}')\n",
        "    print('start condition')\n",
        "    if i < min:\n",
        "        print(f'i < min, update min -> {i}')\n",
        "        min = i\n",
        "    else:\n",
        "        print('i >= min, not update')\n",
        "    print('end condition, go to next i')\n",
        "\n",
        "print(min)"
      ],
      "metadata": {
        "id": "HaRVRLZa7JUe",
        "outputId": "7cc94c00-ff0d-4706-cd9a-b3edfdbbae98",
        "colab": {
          "base_uri": "https://localhost:8080/"
        }
      },
      "execution_count": 34,
      "outputs": [
        {
          "output_type": "stream",
          "name": "stdout",
          "text": [
            "[1, 5, 9, -19, -2, 0]\n",
            "now i = 1, min = 100000000\n",
            "start condition\n",
            "i < min, update min -> 1\n",
            "end condition, go to next i\n",
            "now i = 5, min = 1\n",
            "start condition\n",
            "i >= min, not update\n",
            "end condition, go to next i\n",
            "now i = 9, min = 1\n",
            "start condition\n",
            "i >= min, not update\n",
            "end condition, go to next i\n",
            "now i = -19, min = 1\n",
            "start condition\n",
            "i < min, update min -> -19\n",
            "end condition, go to next i\n",
            "now i = -2, min = -19\n",
            "start condition\n",
            "i >= min, not update\n",
            "end condition, go to next i\n",
            "now i = 0, min = -19\n",
            "start condition\n",
            "i >= min, not update\n",
            "end condition, go to next i\n",
            "-19\n"
          ]
        }
      ]
    },
    {
      "cell_type": "markdown",
      "source": [
        "### HW1 sort the number in\n",
        "\n",
        "```list_ex```without using max() function (you can use only for and if)\n",
        "\n",
        "hand in before 8/8/23\n",
        "\n"
      ],
      "metadata": {
        "id": "te-FjmoL7ag-"
      }
    },
    {
      "cell_type": "markdown",
      "source": [
        "####Ans HW1"
      ],
      "metadata": {
        "id": "mn53vlf8trlu"
      }
    },
    {
      "cell_type": "code",
      "source": [
        "list_ex = [1,5,9,-19,-2,0]\n",
        "list_ex"
      ],
      "metadata": {
        "id": "x2hAsybg7ZwE",
        "outputId": "a3a52544-207e-4cb9-cb88-1a72ed786169",
        "colab": {
          "base_uri": "https://localhost:8080/"
        }
      },
      "execution_count": 79,
      "outputs": [
        {
          "output_type": "execute_result",
          "data": {
            "text/plain": [
              "[1, 5, 9, -19, -2, 0]"
            ]
          },
          "metadata": {},
          "execution_count": 79
        }
      ]
    },
    {
      "cell_type": "code",
      "source": [
        "Maximum = -100000000000\n",
        "for number in list_ex:\n",
        "    if Maximum < number:\n",
        "       Maximum = number\n",
        "print(Maximum)"
      ],
      "metadata": {
        "id": "KTbwf8N6sw6n",
        "outputId": "eb687e03-8e4f-4529-9ec5-090d2c76c818",
        "colab": {
          "base_uri": "https://localhost:8080/"
        }
      },
      "execution_count": 86,
      "outputs": [
        {
          "output_type": "stream",
          "name": "stdout",
          "text": [
            "9\n"
          ]
        }
      ]
    },
    {
      "cell_type": "markdown",
      "source": [
        "###**Python infinity**\n",
        "\n",
        "Representing infinity as an Integer in python"
      ],
      "metadata": {
        "id": "VXuUQUNT8yBe"
      }
    },
    {
      "cell_type": "code",
      "source": [
        "float('inf')"
      ],
      "metadata": {
        "id": "un4uAVs_82qX",
        "outputId": "c833a7ff-4c42-451c-d84a-21c53ba56243",
        "colab": {
          "base_uri": "https://localhost:8080/"
        }
      },
      "execution_count": 35,
      "outputs": [
        {
          "output_type": "execute_result",
          "data": {
            "text/plain": [
              "inf"
            ]
          },
          "metadata": {},
          "execution_count": 35
        }
      ]
    },
    {
      "cell_type": "code",
      "source": [
        "float('-inf')"
      ],
      "metadata": {
        "id": "7g0ndYao8_jG",
        "outputId": "db99c984-14ff-4f7c-b0a1-5e946c279bbc",
        "colab": {
          "base_uri": "https://localhost:8080/"
        }
      },
      "execution_count": 36,
      "outputs": [
        {
          "output_type": "execute_result",
          "data": {
            "text/plain": [
              "-inf"
            ]
          },
          "metadata": {},
          "execution_count": 36
        }
      ]
    },
    {
      "cell_type": "markdown",
      "source": [
        "2. using Python’s math module:"
      ],
      "metadata": {
        "id": "iHlSuzkI9DR8"
      }
    },
    {
      "cell_type": "code",
      "source": [
        "import math"
      ],
      "metadata": {
        "id": "9ZKY2msH9H_t"
      },
      "execution_count": 37,
      "outputs": []
    },
    {
      "cell_type": "code",
      "source": [
        "math.inf"
      ],
      "metadata": {
        "id": "EeL66M-i9Lg_",
        "outputId": "92852b95-fdfe-40ac-9b32-8e4b4533fe1f",
        "colab": {
          "base_uri": "https://localhost:8080/"
        }
      },
      "execution_count": 38,
      "outputs": [
        {
          "output_type": "execute_result",
          "data": {
            "text/plain": [
              "inf"
            ]
          },
          "metadata": {},
          "execution_count": 38
        }
      ]
    },
    {
      "cell_type": "code",
      "source": [
        "-math.inf"
      ],
      "metadata": {
        "id": "50S0RpU99ONI",
        "outputId": "9dd0c653-4a92-4609-b7cf-b3f8170b96ad",
        "colab": {
          "base_uri": "https://localhost:8080/"
        }
      },
      "execution_count": 39,
      "outputs": [
        {
          "output_type": "execute_result",
          "data": {
            "text/plain": [
              "-inf"
            ]
          },
          "metadata": {},
          "execution_count": 39
        }
      ]
    },
    {
      "cell_type": "markdown",
      "source": [
        "###Function\n",
        "\n",
        "```\n",
        "def function_name (input1,input2,...):\n",
        "  process #1\n",
        "  process #2    \n",
        "  return output\n",
        "```\n"
      ],
      "metadata": {
        "id": "s3GwZvTA9TGK"
      }
    },
    {
      "cell_type": "markdown",
      "source": [
        "**ส่วนประกอบสำคัญ**\n",
        "-functio name\n",
        "\n",
        "- input\n",
        "\n",
        "- process (ไม่มีไม่ได้)\n",
        "\n",
        "- output"
      ],
      "metadata": {
        "id": "i3OJqlgY-tmy"
      }
    },
    {
      "cell_type": "markdown",
      "source": [
        "#### Example 1"
      ],
      "metadata": {
        "id": "arV2XTfR-yS_"
      }
    },
    {
      "cell_type": "code",
      "source": [
        "def find_min(list_ex):\n",
        "    min = 100000000\n",
        "    for x in list_ex:\n",
        "        if x < min:\n",
        "            min = x\n",
        "\n",
        "    return min"
      ],
      "metadata": {
        "id": "kAPIVxO497i_"
      },
      "execution_count": 40,
      "outputs": []
    },
    {
      "cell_type": "code",
      "source": [
        "list_A = [1,5,9,-19,-2,0]\n",
        "XXX = find_min(list_A)\n",
        "print(XXX)"
      ],
      "metadata": {
        "id": "trc0pWH4_Ljt",
        "outputId": "a4d474d0-0af4-4f3f-a5a8-9d68f212f5be",
        "colab": {
          "base_uri": "https://localhost:8080/"
        }
      },
      "execution_count": 41,
      "outputs": [
        {
          "output_type": "stream",
          "name": "stdout",
          "text": [
            "-19\n"
          ]
        }
      ]
    },
    {
      "cell_type": "code",
      "source": [
        "find_min([-9,99,0,-35])"
      ],
      "metadata": {
        "id": "1CDFmL97_l1N",
        "outputId": "b892a229-0bc2-419b-c485-1f821bff2b80",
        "colab": {
          "base_uri": "https://localhost:8080/"
        }
      },
      "execution_count": 42,
      "outputs": [
        {
          "output_type": "execute_result",
          "data": {
            "text/plain": [
              "-35"
            ]
          },
          "metadata": {},
          "execution_count": 42
        }
      ]
    },
    {
      "cell_type": "markdown",
      "source": [
        "#### Example 2\n",
        "Function without Output\n",
        "- cannot set a value to a variable"
      ],
      "metadata": {
        "id": "KIlIlnn4_tnP"
      }
    },
    {
      "cell_type": "code",
      "source": [
        "def find_min2(list_ex): ## no return\n",
        "    min = 100000000\n",
        "    for x in list_ex:\n",
        "        if x < min:\n",
        "            min = x\n",
        "    print(min)"
      ],
      "metadata": {
        "id": "G7mrkr4Y_wdl"
      },
      "execution_count": 43,
      "outputs": []
    },
    {
      "cell_type": "code",
      "source": [
        "find_min(list_A)"
      ],
      "metadata": {
        "id": "QeDp5k_SADbC",
        "outputId": "b1b9f509-5abb-43c8-ebaf-27db4032cfc7",
        "colab": {
          "base_uri": "https://localhost:8080/"
        }
      },
      "execution_count": 44,
      "outputs": [
        {
          "output_type": "execute_result",
          "data": {
            "text/plain": [
              "-19"
            ]
          },
          "metadata": {},
          "execution_count": 44
        }
      ]
    },
    {
      "cell_type": "code",
      "source": [
        "YYY = find_min(list_A) ## ไม่เก็บค่า แต่print ออกมาเลย"
      ],
      "metadata": {
        "id": "f6cJjk6xAZGu"
      },
      "execution_count": 45,
      "outputs": []
    },
    {
      "cell_type": "code",
      "source": [
        "YYY"
      ],
      "metadata": {
        "id": "4ZrOpRnVAquv",
        "outputId": "6f01c7ba-1b6c-4d9c-d799-334c1cb843cd",
        "colab": {
          "base_uri": "https://localhost:8080/"
        }
      },
      "execution_count": 46,
      "outputs": [
        {
          "output_type": "execute_result",
          "data": {
            "text/plain": [
              "-19"
            ]
          },
          "metadata": {},
          "execution_count": 46
        }
      ]
    },
    {
      "cell_type": "markdown",
      "source": [
        "#### Example 3\n",
        "Function แบบไม่มี Input\n"
      ],
      "metadata": {
        "id": "xfRCX_x1Ar6c"
      }
    },
    {
      "cell_type": "code",
      "source": [
        "def Pi_val():\n",
        "    return 3.1416"
      ],
      "metadata": {
        "id": "u-z2YGA_AyXH"
      },
      "execution_count": 47,
      "outputs": []
    },
    {
      "cell_type": "code",
      "source": [
        "r = 10\n",
        "print(f'พื้นที่วงกลมที่มีเส้นผ่านศูนย์กลางเท่ากับ {r} คือ {Pi_val()*r*r}')"
      ],
      "metadata": {
        "id": "X-4Vy60XA1yR",
        "outputId": "6f36a964-d4c3-4958-a2df-e49bfd95dc40",
        "colab": {
          "base_uri": "https://localhost:8080/"
        }
      },
      "execution_count": 48,
      "outputs": [
        {
          "output_type": "stream",
          "name": "stdout",
          "text": [
            "พื้นที่วงกลมที่มีเส้นผ่านศูนย์กลางเท่ากับ 10 คือ 314.16\n"
          ]
        }
      ]
    },
    {
      "cell_type": "markdown",
      "source": [
        "#### Example 4\n",
        "Function ที่มีแต่ Process อย่างเดียว\n"
      ],
      "metadata": {
        "id": "zWQBLbTrA-4v"
      }
    },
    {
      "cell_type": "code",
      "source": [
        "def draw_rectangle():\n",
        "    print('======')\n",
        "    print('|    |')\n",
        "    print('======')"
      ],
      "metadata": {
        "id": "p3bLXj6NBD-T"
      },
      "execution_count": 49,
      "outputs": []
    },
    {
      "cell_type": "code",
      "source": [
        "draw_rectangle()"
      ],
      "metadata": {
        "id": "77dlZbysBHPc",
        "outputId": "23a227b9-ee78-4d93-b67b-6483e1728dbf",
        "colab": {
          "base_uri": "https://localhost:8080/"
        }
      },
      "execution_count": 50,
      "outputs": [
        {
          "output_type": "stream",
          "name": "stdout",
          "text": [
            "======\n",
            "|    |\n",
            "======\n"
          ]
        }
      ]
    },
    {
      "cell_type": "code",
      "source": [
        "def draw_hello():\n",
        "    print('============')\n",
        "    print('|  Hello  |')\n",
        "    print('============')"
      ],
      "metadata": {
        "id": "8ZCLuo5GBNUo"
      },
      "execution_count": 51,
      "outputs": []
    },
    {
      "cell_type": "code",
      "source": [
        "draw_hello()"
      ],
      "metadata": {
        "id": "86ulW5_TBSTp",
        "outputId": "301a0e1e-0323-44ae-c1f2-4b0d48ff30fb",
        "colab": {
          "base_uri": "https://localhost:8080/"
        }
      },
      "execution_count": 52,
      "outputs": [
        {
          "output_type": "stream",
          "name": "stdout",
          "text": [
            "============\n",
            "|  Hello  |\n",
            "============\n"
          ]
        }
      ]
    },
    {
      "cell_type": "markdown",
      "source": [
        "Function without Process it cannot Run"
      ],
      "metadata": {
        "id": "YYa1y7U0BVRg"
      }
    },
    {
      "cell_type": "code",
      "source": [
        "def draw_rectangle():"
      ],
      "metadata": {
        "id": "XrfVep5mBixx",
        "outputId": "7878f645-fc6a-410f-c8fa-312d2eb6c224",
        "colab": {
          "base_uri": "https://localhost:8080/",
          "height": 140
        }
      },
      "execution_count": 54,
      "outputs": [
        {
          "output_type": "error",
          "ename": "SyntaxError",
          "evalue": "ignored",
          "traceback": [
            "\u001b[0;36m  File \u001b[0;32m\"<ipython-input-54-96ff03789653>\"\u001b[0;36m, line \u001b[0;32m1\u001b[0m\n\u001b[0;31m    def draw_rectangle():\u001b[0m\n\u001b[0m                         ^\u001b[0m\n\u001b[0;31mSyntaxError\u001b[0m\u001b[0;31m:\u001b[0m incomplete input\n"
          ]
        }
      ]
    },
    {
      "cell_type": "markdown",
      "source": [
        "**type of input(หรือ paremeter, หรือ argument)**\n",
        "\n",
        "- non-default argument : you need to give an input to this\n",
        "-default argument: you can ignore it because it has a default value\n"
      ],
      "metadata": {
        "id": "TCPlPQcCBxgl"
      }
    },
    {
      "cell_type": "code",
      "source": [
        "def draw_rectangle(dbbound=True): ## ค่า default คือ True เป็น input ที่ใส่ หรือไม่่ใส่ก็ได้\n",
        "    if dbbound:\n",
        "        print('========')\n",
        "        print('||    ||')\n",
        "        print('========')\n",
        "    else:\n",
        "        print('________')\n",
        "        print('|      |')\n",
        "        print('--------')"
      ],
      "metadata": {
        "id": "ORsYLqJ3CWJx"
      },
      "execution_count": 55,
      "outputs": []
    },
    {
      "cell_type": "code",
      "source": [
        "draw_rectangle()"
      ],
      "metadata": {
        "id": "pV9FWjG9CZlZ",
        "outputId": "48684fdf-3465-491b-f568-63391d5a8cbd",
        "colab": {
          "base_uri": "https://localhost:8080/"
        }
      },
      "execution_count": 56,
      "outputs": [
        {
          "output_type": "stream",
          "name": "stdout",
          "text": [
            "========\n",
            "||    ||\n",
            "========\n"
          ]
        }
      ]
    },
    {
      "cell_type": "code",
      "source": [
        "draw_rectangle(True)"
      ],
      "metadata": {
        "id": "l4WKtk_VCb01",
        "outputId": "79bd51ac-6721-4b2b-c3b6-61bd222b9628",
        "colab": {
          "base_uri": "https://localhost:8080/"
        }
      },
      "execution_count": 57,
      "outputs": [
        {
          "output_type": "stream",
          "name": "stdout",
          "text": [
            "========\n",
            "||    ||\n",
            "========\n"
          ]
        }
      ]
    },
    {
      "cell_type": "code",
      "source": [
        "draw_rectangle(False)"
      ],
      "metadata": {
        "id": "c53MUUeRCd6B",
        "outputId": "938fcee8-8f36-439f-c2eb-d9417614dd53",
        "colab": {
          "base_uri": "https://localhost:8080/"
        }
      },
      "execution_count": 58,
      "outputs": [
        {
          "output_type": "stream",
          "name": "stdout",
          "text": [
            "________\n",
            "|      |\n",
            "--------\n"
          ]
        }
      ]
    },
    {
      "cell_type": "markdown",
      "source": [
        " ไม่มี input ที่เป็นค่า default"
      ],
      "metadata": {
        "id": "xTfdPjSKDb8A"
      }
    },
    {
      "cell_type": "code",
      "source": [
        "find_min2() ## ไม่มี input ที่เป็นค่า default"
      ],
      "metadata": {
        "id": "N7MVcXa6DelR",
        "outputId": "530d833e-9b77-4991-eed6-ccdebf0ae996",
        "colab": {
          "base_uri": "https://localhost:8080/",
          "height": 174
        }
      },
      "execution_count": 59,
      "outputs": [
        {
          "output_type": "error",
          "ename": "TypeError",
          "evalue": "ignored",
          "traceback": [
            "\u001b[0;31m---------------------------------------------------------------------------\u001b[0m",
            "\u001b[0;31mTypeError\u001b[0m                                 Traceback (most recent call last)",
            "\u001b[0;32m<ipython-input-59-ef006b8c722f>\u001b[0m in \u001b[0;36m<cell line: 1>\u001b[0;34m()\u001b[0m\n\u001b[0;32m----> 1\u001b[0;31m \u001b[0mfind_min2\u001b[0m\u001b[0;34m(\u001b[0m\u001b[0;34m)\u001b[0m \u001b[0;31m## ไม่มี input ที่เป็นค่า default\u001b[0m\u001b[0;34m\u001b[0m\u001b[0;34m\u001b[0m\u001b[0m\n\u001b[0m",
            "\u001b[0;31mTypeError\u001b[0m: find_min2() missing 1 required positional argument: 'list_ex'"
          ]
        }
      ]
    },
    {
      "cell_type": "code",
      "source": [
        "#''' นำ input ที่จำเป็นต้องใส่มาไว้ด้านหน้าก่อน\n",
        "def draw_rectangle(size,dbbound=True): ## size is non-default argument\n",
        "    if dbbound:\n",
        "        up = '='\n",
        "        space = ' '\n",
        "        print(f'{(size+4)*up}')\n",
        "        print(f'||{size*space}||')\n",
        "        print(f'{(size+4)*up}')\n",
        "    else:\n",
        "        up = '-'\n",
        "        space = ' '\n",
        "        print(f'{(size+4)*up}')\n",
        "        print(f'|{size*space}|')\n",
        "        print(f'{(size+4)*up}')"
      ],
      "metadata": {
        "id": "v87ei8qfDxyb"
      },
      "execution_count": 62,
      "outputs": []
    },
    {
      "cell_type": "code",
      "source": [
        "draw_rectangle() ## ถ้าไม่ใส่ input ที่จำเป็นต้องใส่ จะ Errors"
      ],
      "metadata": {
        "id": "g-Vx1wfzD1KO",
        "outputId": "746e0f76-77f6-490a-e9a4-354b513a9e7e",
        "colab": {
          "base_uri": "https://localhost:8080/",
          "height": 174
        }
      },
      "execution_count": 64,
      "outputs": [
        {
          "output_type": "error",
          "ename": "TypeError",
          "evalue": "ignored",
          "traceback": [
            "\u001b[0;31m---------------------------------------------------------------------------\u001b[0m",
            "\u001b[0;31mTypeError\u001b[0m                                 Traceback (most recent call last)",
            "\u001b[0;32m<ipython-input-64-88c3012a2a69>\u001b[0m in \u001b[0;36m<cell line: 1>\u001b[0;34m()\u001b[0m\n\u001b[0;32m----> 1\u001b[0;31m \u001b[0mdraw_rectangle\u001b[0m\u001b[0;34m(\u001b[0m\u001b[0;34m)\u001b[0m \u001b[0;31m## ถ้าไม่ใส่ input ที่จำเป็นต้องใส่ จะ Errors\u001b[0m\u001b[0;34m\u001b[0m\u001b[0;34m\u001b[0m\u001b[0m\n\u001b[0m",
            "\u001b[0;31mTypeError\u001b[0m: draw_rectangle() missing 1 required positional argument: 'size'"
          ]
        }
      ]
    },
    {
      "cell_type": "markdown",
      "source": [
        "ไม่ได้ใส่ parameter ตามลำดับ แต่ใส่ parameter ที่จำเป็นต้องใส่ก็สามารถ run ได้ ถ้าใส่ชื่อของ parameter ด้วย"
      ],
      "metadata": {
        "id": "IiM36zFoEy5Z"
      }
    },
    {
      "cell_type": "code",
      "source": [
        "draw_rectangle(dbbound=False,size=7)"
      ],
      "metadata": {
        "id": "qy7qVNdmE3jp",
        "outputId": "fa80798f-a054-498a-9629-bdc56c31a071",
        "colab": {
          "base_uri": "https://localhost:8080/"
        }
      },
      "execution_count": 65,
      "outputs": [
        {
          "output_type": "stream",
          "name": "stdout",
          "text": [
            "-----------\n",
            "|       |\n",
            "-----------\n"
          ]
        }
      ]
    },
    {
      "cell_type": "code",
      "source": [
        "draw_rectangle(size=7)"
      ],
      "metadata": {
        "id": "OCuq_z2CE7O8",
        "outputId": "5b7f3a08-a6df-411d-fee6-082a5808f0b1",
        "colab": {
          "base_uri": "https://localhost:8080/"
        }
      },
      "execution_count": 66,
      "outputs": [
        {
          "output_type": "stream",
          "name": "stdout",
          "text": [
            "===========\n",
            "||       ||\n",
            "===========\n"
          ]
        }
      ]
    },
    {
      "cell_type": "markdown",
      "source": [
        "#### Example\n",
        "\n",
        "สร้าง function\n",
        "\n",
        "- วาด 4 เหลี่ยม ให้สามารถกำหนด ความยาว เเละ ความกว้าง ได้\n",
        "- เเต่ถ้าใส่ parameter ตัวเดียวก็ให้วาด 4 เหลี่ยม จัสตุรัส ที่มี ความยาว เเละ ความกว้าง เท่ากับ parameter ที่ใส่\n",
        "\n",
        "ให้ปริ้น ความกว้างxความยาวของสี่เหลี่ยม\n",
        "\n",
        "\n",
        "(ให้ปริ้น ความกว้าง x ความยาวของ สี่เหลี่ยม)\n",
        "\n",
        "**ตัวอย่าง**\n",
        "\n",
        "rext(3,5)\n",
        "> 3 x 5\n",
        "\n",
        "rext(7)\n",
        "\n",
        "> 7 x 7"
      ],
      "metadata": {
        "id": "VY1nuTWZFMWD"
      }
    },
    {
      "cell_type": "code",
      "source": [
        "def draw_rectagle(W, H): #เติมค่่า ตัวหนึ่งได้เเต่ใช้สองตัว\n",
        "    print(f'{W} x {H}')\n",
        "draw_rectagle(3, 5)"
      ],
      "metadata": {
        "id": "YIxcRY9uF82H",
        "outputId": "37b843a0-2b45-4f2a-af5b-9fb3575b8a62",
        "colab": {
          "base_uri": "https://localhost:8080/"
        }
      },
      "execution_count": 68,
      "outputs": [
        {
          "output_type": "stream",
          "name": "stdout",
          "text": [
            "3 x 5\n"
          ]
        }
      ]
    },
    {
      "cell_type": "code",
      "source": [
        "def draw_rectagle(W, H=True): #เติมค่่า ตัวหนึ่งได้เเต่ใช้สองตัว\n",
        "    if H == True: #เช็ค if parameter 1 ตัว\n",
        "        H=W\n",
        "    print(f'{W} x {H}')"
      ],
      "metadata": {
        "id": "7DdseSz5F_1Q"
      },
      "execution_count": 69,
      "outputs": []
    },
    {
      "cell_type": "code",
      "source": [
        "draw_rectagle(3)"
      ],
      "metadata": {
        "id": "QQWCYM9CGCMR",
        "outputId": "25bf4454-89ae-4c0e-f97a-1a62f6be6845",
        "colab": {
          "base_uri": "https://localhost:8080/"
        }
      },
      "execution_count": 70,
      "outputs": [
        {
          "output_type": "stream",
          "name": "stdout",
          "text": [
            "3 x 3\n"
          ]
        }
      ]
    },
    {
      "cell_type": "code",
      "source": [
        "draw_rectagle(3,5)"
      ],
      "metadata": {
        "id": "sOgGtb3KGEU8",
        "outputId": "25acac2d-0b3c-4faf-8ba1-64b2a200335f",
        "colab": {
          "base_uri": "https://localhost:8080/"
        }
      },
      "execution_count": 71,
      "outputs": [
        {
          "output_type": "stream",
          "name": "stdout",
          "text": [
            "3 x 5\n"
          ]
        }
      ]
    },
    {
      "cell_type": "code",
      "source": [
        "def draw_rectagle(W, H=True):\n",
        "    if H ==True:\n",
        "       up = '-'\n",
        "       side = '|'\n",
        "       space = W-1\n",
        "       print(f'{W*up}')\n",
        "       for i in range(W):\n",
        "           print(f'{side}{space*\" \"}{side}')\n",
        "       print(f'{W*up}')\n",
        "       print((f'{W} x {W}'))\n",
        "    else:\n",
        "        up = '-'\n",
        "        side = '|'\n",
        "        space = W-1\n",
        "        print(f'{W*up}')\n",
        "        for i in range(H):\n",
        "            print(f'{side}{space*\" \"}{side}')\n",
        "        print(f'{W*up}')\n",
        "        print((f'{W} x {H}'))"
      ],
      "metadata": {
        "id": "AI-hnAbPGGUu"
      },
      "execution_count": 72,
      "outputs": []
    },
    {
      "cell_type": "code",
      "source": [
        "draw_rectagle(W=5)"
      ],
      "metadata": {
        "id": "GbZ0Jx2BGIdY",
        "outputId": "e4f05bef-32ef-4421-93cd-108f7a5dcd29",
        "colab": {
          "base_uri": "https://localhost:8080/"
        }
      },
      "execution_count": 73,
      "outputs": [
        {
          "output_type": "stream",
          "name": "stdout",
          "text": [
            "-----\n",
            "|    |\n",
            "|    |\n",
            "|    |\n",
            "|    |\n",
            "|    |\n",
            "-----\n",
            "5 x 5\n"
          ]
        }
      ]
    },
    {
      "cell_type": "code",
      "source": [
        "draw_rectagle(W=5,H=10)"
      ],
      "metadata": {
        "id": "nA7bwp3-GKjO",
        "outputId": "d61e3c01-3fff-4774-e27f-e289aca8ca10",
        "colab": {
          "base_uri": "https://localhost:8080/"
        }
      },
      "execution_count": 74,
      "outputs": [
        {
          "output_type": "stream",
          "name": "stdout",
          "text": [
            "-----\n",
            "|    |\n",
            "|    |\n",
            "|    |\n",
            "|    |\n",
            "|    |\n",
            "|    |\n",
            "|    |\n",
            "|    |\n",
            "|    |\n",
            "|    |\n",
            "-----\n",
            "5 x 10\n"
          ]
        }
      ]
    },
    {
      "cell_type": "code",
      "source": [
        "draw_rectagle(W=5,H=5)"
      ],
      "metadata": {
        "id": "lS-Xxw02GM6F",
        "outputId": "2fa280a5-b78c-4bf4-d31f-fed52f1b4950",
        "colab": {
          "base_uri": "https://localhost:8080/"
        }
      },
      "execution_count": 75,
      "outputs": [
        {
          "output_type": "stream",
          "name": "stdout",
          "text": [
            "-----\n",
            "|    |\n",
            "|    |\n",
            "|    |\n",
            "|    |\n",
            "|    |\n",
            "-----\n",
            "5 x 5\n"
          ]
        }
      ]
    },
    {
      "cell_type": "code",
      "source": [
        "draw_rectagle(H=5) ##เพราะไม่ใส่ input ที่ต้องใส่"
      ],
      "metadata": {
        "id": "MDfwAChcGPma",
        "outputId": "c9ed51c0-ec6b-4f05-f0c6-b8b2a2598991",
        "colab": {
          "base_uri": "https://localhost:8080/",
          "height": 174
        }
      },
      "execution_count": 77,
      "outputs": [
        {
          "output_type": "error",
          "ename": "TypeError",
          "evalue": "ignored",
          "traceback": [
            "\u001b[0;31m---------------------------------------------------------------------------\u001b[0m",
            "\u001b[0;31mTypeError\u001b[0m                                 Traceback (most recent call last)",
            "\u001b[0;32m<ipython-input-77-86f251ebff46>\u001b[0m in \u001b[0;36m<cell line: 1>\u001b[0;34m()\u001b[0m\n\u001b[0;32m----> 1\u001b[0;31m \u001b[0mdraw_rectagle\u001b[0m\u001b[0;34m(\u001b[0m\u001b[0mH\u001b[0m\u001b[0;34m=\u001b[0m\u001b[0;36m5\u001b[0m\u001b[0;34m)\u001b[0m \u001b[0;31m##เพราะไม่ใส่ input ที่ต้องใส่\u001b[0m\u001b[0;34m\u001b[0m\u001b[0;34m\u001b[0m\u001b[0m\n\u001b[0m",
            "\u001b[0;31mTypeError\u001b[0m: draw_rectagle() missing 1 required positional argument: 'W'"
          ]
        }
      ]
    },
    {
      "cell_type": "markdown",
      "source": [
        "### HW2\n",
        "create a function that sort a list and you can spectify to the function that to sort it assending or descending\n",
        "\n",
        "1. sort a list\n",
        "2. can spectify to the function that sort it assending as default\n",
        "3. have 2 argument one default and one non-default"
      ],
      "metadata": {
        "id": "-Qb5eOVtGQsc"
      }
    },
    {
      "cell_type": "markdown",
      "source": [
        "####Ans HW2"
      ],
      "metadata": {
        "id": "IpKIWrW9ufgv"
      }
    },
    {
      "cell_type": "code",
      "source": [],
      "metadata": {
        "id": "76QEq5ZfGjhB"
      },
      "execution_count": null,
      "outputs": []
    }
  ]
}