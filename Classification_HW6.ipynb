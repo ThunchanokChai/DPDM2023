{
  "nbformat": 4,
  "nbformat_minor": 0,
  "metadata": {
    "colab": {
      "name": "Classification(KNN-Evaluation).ipynb",
      "provenance": [],
      "include_colab_link": true
    },
    "kernelspec": {
      "name": "python3",
      "display_name": "Python 3"
    },
    "language_info": {
      "name": "python"
    }
  },
  "cells": [
    {
      "cell_type": "markdown",
      "metadata": {
        "id": "view-in-github",
        "colab_type": "text"
      },
      "source": [
        "<a href=\"https://colab.research.google.com/github/ThunchanokChai/DPDM2023/blob/main/Classification_HW6.ipynb\" target=\"_parent\"><img src=\"https://colab.research.google.com/assets/colab-badge.svg\" alt=\"Open In Colab\"/></a>"
      ]
    },
    {
      "cell_type": "markdown",
      "metadata": {
        "id": "sijWqfAMmgOx"
      },
      "source": [
        "# Nearest Neighbors Classification\n",
        "\n",
        "*   n_neighbors: จำนวนเพื่อนบ้าน\n",
        "*   weights{‘uniform’, ‘distance’}  หลักการให้ความสำคัญของเเต่ละจำนวนเพื่อนบ้าน\n",
        "*   algorithm{‘auto’, ‘ball_tree’, ‘kd_tree’, ‘brute’}, default=’auto’  หลัการคำนวณ ระยะทาง"
      ]
    },
    {
      "cell_type": "markdown",
      "metadata": {
        "id": "T3nqz4kCnpcy"
      },
      "source": [
        "## Load data"
      ]
    },
    {
      "cell_type": "code",
      "metadata": {
        "id": "zIgyTtv0ljk4"
      },
      "source": [
        "from  sklearn import datasets #packet scikit-learn\n",
        "mnist_data = datasets.load_digits() #เป็น Dictionary\n",
        "\n",
        "X = mnist_data['data'] #Features ใช้ Train\n",
        "Y = mnist_data['target']#target ใช้ Test"
      ],
      "execution_count": null,
      "outputs": []
    },
    {
      "cell_type": "markdown",
      "metadata": {
        "id": "PCX5vFDWnruC"
      },
      "source": [
        "## Split data"
      ]
    },
    {
      "cell_type": "code",
      "metadata": {
        "id": "TfuG6i-4nIHr"
      },
      "source": [
        "import numpy as np\n",
        "from sklearn.model_selection import train_test_split\n",
        "\n",
        "# เเบ่ง train, Test\n",
        "X_train, X_test, y_train, y_test = train_test_split(X, Y, test_size=0.50, random_state=6) # random_state=6 เท่ากัน\n",
        "#เเบ่ง train -> train, Validation\n",
        "X_traintrain, X_val, y_traintrain, y_val = train_test_split(X_train, y_train, test_size=0.30, random_state=6) # random_state=6 เท่ากัน"
      ],
      "execution_count": null,
      "outputs": []
    },
    {
      "cell_type": "markdown",
      "metadata": {
        "id": "7-iVAergn22u"
      },
      "source": [
        "## KNN"
      ]
    },
    {
      "cell_type": "markdown",
      "metadata": {
        "id": "GXsaE1r5oTn_"
      },
      "source": [
        "#### Import"
      ]
    },
    {
      "cell_type": "code",
      "metadata": {
        "id": "p3onMUgEn1zB"
      },
      "source": [
        "from sklearn.neighbors import KNeighborsClassifier"
      ],
      "execution_count": null,
      "outputs": []
    },
    {
      "cell_type": "markdown",
      "metadata": {
        "id": "g9qSNBl7oYBs"
      },
      "source": [
        "#### Define - Train Model1"
      ]
    },
    {
      "cell_type": "code",
      "metadata": {
        "colab": {
          "base_uri": "https://localhost:8080/"
        },
        "id": "2_WO7L0som5p",
        "outputId": "c0471bd0-d7af-4452-ce7a-b419b25280ad"
      },
      "source": [
        "neigh1 = KNeighborsClassifier(n_neighbors=1)#เชื่อใกล้สุดคนเดียว\n",
        "neigh1.fit(X_traintrain, y_traintrain)"
      ],
      "execution_count": null,
      "outputs": [
        {
          "output_type": "execute_result",
          "data": {
            "text/plain": [
              "KNeighborsClassifier(algorithm='auto', leaf_size=30, metric='minkowski',\n",
              "                     metric_params=None, n_jobs=None, n_neighbors=1, p=2,\n",
              "                     weights='uniform')"
            ]
          },
          "metadata": {},
          "execution_count": 4
        }
      ]
    },
    {
      "cell_type": "markdown",
      "metadata": {
        "id": "8AnODp8Vo-K_"
      },
      "source": [
        "#### Define - Train Model2"
      ]
    },
    {
      "cell_type": "code",
      "metadata": {
        "colab": {
          "base_uri": "https://localhost:8080/"
        },
        "id": "VskUv-clpCfv",
        "outputId": "5c6919d7-9d41-46d2-c6b1-f38aa65137a4"
      },
      "source": [
        "neigh2 = KNeighborsClassifier(n_neighbors=5, weights= 'distance') #weights : เชื่อคนใกล้มากกว่าคนไกล\n",
        "neigh2.fit(X_traintrain, y_traintrain)"
      ],
      "execution_count": null,
      "outputs": [
        {
          "output_type": "execute_result",
          "data": {
            "text/plain": [
              "KNeighborsClassifier(algorithm='auto', leaf_size=30, metric='minkowski',\n",
              "                     metric_params=None, n_jobs=None, n_neighbors=5, p=2,\n",
              "                     weights='distance')"
            ]
          },
          "metadata": {},
          "execution_count": 5
        }
      ]
    },
    {
      "cell_type": "markdown",
      "metadata": {
        "id": "_bFmZbMFpAjs"
      },
      "source": [
        "#### Define - Train Model3"
      ]
    },
    {
      "cell_type": "code",
      "metadata": {
        "colab": {
          "base_uri": "https://localhost:8080/"
        },
        "id": "asF59LYIo7wR",
        "outputId": "15df9429-1df3-4da7-dc35-98cef77c300f"
      },
      "source": [
        "neigh3 = KNeighborsClassifier(n_neighbors=9, weights= 'uniform') #weights : เชื่อทุกคนเท่ากัน\n",
        "neigh3.fit(X_traintrain, y_traintrain)"
      ],
      "execution_count": null,
      "outputs": [
        {
          "output_type": "execute_result",
          "data": {
            "text/plain": [
              "KNeighborsClassifier(algorithm='auto', leaf_size=30, metric='minkowski',\n",
              "                     metric_params=None, n_jobs=None, n_neighbors=9, p=2,\n",
              "                     weights='uniform')"
            ]
          },
          "metadata": {},
          "execution_count": 11
        }
      ]
    },
    {
      "cell_type": "markdown",
      "metadata": {
        "id": "IlryQVSMplnI"
      },
      "source": [
        "# Validate model"
      ]
    },
    {
      "cell_type": "code",
      "metadata": {
        "id": "-OfNZJRCpwjl"
      },
      "source": [
        "from sklearn.metrics import accuracy_score"
      ],
      "execution_count": null,
      "outputs": []
    },
    {
      "cell_type": "code",
      "metadata": {
        "colab": {
          "base_uri": "https://localhost:8080/"
        },
        "id": "mF8uWPweo8VH",
        "outputId": "996869e5-d27b-49e1-9388-15c80ff5d50f"
      },
      "source": [
        "y_pred1 = neigh1.fit(X_traintrain, y_traintrain).predict(X_val)\n",
        "accuracy_score(y_val,y_pred1)"
      ],
      "execution_count": null,
      "outputs": [
        {
          "output_type": "execute_result",
          "data": {
            "text/plain": [
              "0.9777777777777777"
            ]
          },
          "metadata": {},
          "execution_count": 8
        }
      ]
    },
    {
      "cell_type": "code",
      "metadata": {
        "colab": {
          "base_uri": "https://localhost:8080/"
        },
        "id": "YELIw0Y5p2kf",
        "outputId": "5ea41f60-315d-456b-d009-01634bc2773b"
      },
      "source": [
        "y_pred2 = neigh2.fit(X_traintrain, y_traintrain).predict(X_val)\n",
        "accuracy_score(y_val,y_pred2)"
      ],
      "execution_count": null,
      "outputs": [
        {
          "output_type": "execute_result",
          "data": {
            "text/plain": [
              "0.9777777777777777"
            ]
          },
          "metadata": {},
          "execution_count": 9
        }
      ]
    },
    {
      "cell_type": "code",
      "metadata": {
        "colab": {
          "base_uri": "https://localhost:8080/"
        },
        "id": "JRrKX3b1p7MQ",
        "outputId": "62982b8f-64d5-4732-9081-2b81cab9ce7d"
      },
      "source": [
        "y_pred3 = neigh3.fit(X_traintrain, y_traintrain).predict(X_val)\n",
        "accuracy_score(y_val,y_pred3)"
      ],
      "execution_count": null,
      "outputs": [
        {
          "output_type": "execute_result",
          "data": {
            "text/plain": [
              "0.9703703703703703"
            ]
          },
          "metadata": {},
          "execution_count": 12
        }
      ]
    },
    {
      "cell_type": "markdown",
      "metadata": {
        "id": "SmbzVQZO0Wb7"
      },
      "source": [
        "# Evaluation"
      ]
    },
    {
      "cell_type": "markdown",
      "metadata": {
        "id": "12_N7i7A0cdv"
      },
      "source": [
        "#### Retrain model with full training data"
      ]
    },
    {
      "cell_type": "code",
      "metadata": {
        "colab": {
          "base_uri": "https://localhost:8080/"
        },
        "id": "wZXgKHWa0kt_",
        "outputId": "c6d10133-b1a5-4ef2-87dc-9c4e8f8f6752"
      },
      "source": [
        "neighfull1 = KNeighborsClassifier(n_neighbors=1)#เชื่อใกล้สุดคนเดียว\n",
        "neighfull1.fit(X_train, y_train)"
      ],
      "execution_count": null,
      "outputs": [
        {
          "output_type": "execute_result",
          "data": {
            "text/plain": [
              "KNeighborsClassifier(algorithm='auto', leaf_size=30, metric='minkowski',\n",
              "                     metric_params=None, n_jobs=None, n_neighbors=1, p=2,\n",
              "                     weights='uniform')"
            ]
          },
          "metadata": {},
          "execution_count": 13
        }
      ]
    },
    {
      "cell_type": "code",
      "metadata": {
        "colab": {
          "base_uri": "https://localhost:8080/"
        },
        "id": "R1-lOxxP0k2U",
        "outputId": "94373c0e-106d-4a9f-e860-282f558bbf9d"
      },
      "source": [
        "neighfull2 = KNeighborsClassifier(n_neighbors=5, weights= 'distance') #weights : เชื่อคนใกล้มากกว่าคนไกล\n",
        "neighfull2.fit(X_train, y_train)"
      ],
      "execution_count": null,
      "outputs": [
        {
          "output_type": "execute_result",
          "data": {
            "text/plain": [
              "KNeighborsClassifier(algorithm='auto', leaf_size=30, metric='minkowski',\n",
              "                     metric_params=None, n_jobs=None, n_neighbors=5, p=2,\n",
              "                     weights='distance')"
            ]
          },
          "metadata": {},
          "execution_count": 14
        }
      ]
    },
    {
      "cell_type": "markdown",
      "source": [
        "give the reson that why you chose that model (using )\n",
        "\n",
        "3 dicision tree\n",
        "navive\n",
        "chose by you self"
      ],
      "metadata": {
        "id": "vSmdIpm_tQpa"
      }
    },
    {
      "cell_type": "markdown",
      "metadata": {
        "id": "FDCpAP741Geg"
      },
      "source": [
        "#### Evaluation"
      ]
    },
    {
      "cell_type": "code",
      "metadata": {
        "id": "ufrUgK0E1Mf0"
      },
      "source": [
        "from sklearn.metrics import classification_report, confusion_matrix"
      ],
      "execution_count": null,
      "outputs": []
    },
    {
      "cell_type": "markdown",
      "metadata": {
        "id": "FZxSOmbv12E2"
      },
      "source": [
        "##### model1"
      ]
    },
    {
      "cell_type": "code",
      "metadata": {
        "colab": {
          "base_uri": "https://localhost:8080/"
        },
        "id": "7Abt7wIl0k_A",
        "outputId": "93de55f6-dfe2-4d41-f396-2cde50970027"
      },
      "source": [
        "y_pred1 = neighfull1.fit(X_train, y_train).predict(X_test)\n",
        "accuracy_score(y_test,y_pred1)"
      ],
      "execution_count": null,
      "outputs": [
        {
          "output_type": "execute_result",
          "data": {
            "text/plain": [
              "0.982202447163515"
            ]
          },
          "metadata": {},
          "execution_count": 17
        }
      ]
    },
    {
      "cell_type": "code",
      "metadata": {
        "colab": {
          "base_uri": "https://localhost:8080/"
        },
        "id": "ghQRA6WD1XlX",
        "outputId": "285f4a32-7592-4be6-8f92-6a232eb657a4"
      },
      "source": [
        "cm1 = confusion_matrix(y_test,neighfull1.predict(X_test))\n",
        "cm1"
      ],
      "execution_count": null,
      "outputs": [
        {
          "output_type": "execute_result",
          "data": {
            "text/plain": [
              "array([[99,  0,  0,  0,  0,  0,  0,  0,  0,  0],\n",
              "       [ 0, 92,  0,  0,  0,  0,  0,  0,  1,  0],\n",
              "       [ 1,  0, 98,  0,  0,  0,  0,  0,  1,  0],\n",
              "       [ 0,  0,  1, 77,  0,  0,  0,  0,  0,  1],\n",
              "       [ 0,  0,  0,  0, 95,  0,  0,  0,  0,  1],\n",
              "       [ 0,  0,  0,  0,  0, 91,  1,  0,  0,  0],\n",
              "       [ 0,  1,  0,  0,  0,  0, 84,  0,  0,  0],\n",
              "       [ 0,  0,  0,  0,  0,  0,  0, 94,  0,  0],\n",
              "       [ 0,  1,  0,  1,  0,  0,  0,  0, 80,  1],\n",
              "       [ 0,  0,  0,  2,  0,  3,  0,  0,  0, 73]])"
            ]
          },
          "metadata": {},
          "execution_count": 24
        }
      ]
    },
    {
      "cell_type": "code",
      "metadata": {
        "colab": {
          "base_uri": "https://localhost:8080/"
        },
        "id": "IA1IkilD0RyG",
        "outputId": "4601e619-a9ca-41ea-a7b4-c28212b79fdb"
      },
      "source": [
        "print(classification_report(y_test,y_pred1))\n",
        "#EX: precision Class 0 = 0.99 แปลว่า โมเดลทำนายว่าเป็น 0 ทำนายถูก 99%\n",
        "#EX: recall  Class 0 = 1.00 แปลว่า โมเดลหา class ที่เป็น 0 เจอ 100%\n",
        "#EX: accuracy  = 0.98 แปลว่า จาก 899 ข้อสอบ ทำนายถูกต้อง 98%\n",
        "# macro avg  คือ คำนวนจากทุกตัวบวกกัน (ทุกคลาสมีค่าเท่ากัน) ตามเเนว column\n",
        "# weighted avg คือ คำนวนค่าเฉลี่ยโดยให้ support เป็น weight (Ex: [(0.99*99)+...+(0.96*78)]/(99+..+78))\n",
        "#เเต่ล่ะ row ให้ positive เป็นเเต่ละ class"
      ],
      "execution_count": null,
      "outputs": [
        {
          "output_type": "stream",
          "name": "stdout",
          "text": [
            "              precision    recall  f1-score   support\n",
            "\n",
            "           0       0.99      1.00      0.99        99\n",
            "           1       0.98      0.99      0.98        93\n",
            "           2       0.99      0.98      0.98       100\n",
            "           3       0.96      0.97      0.97        79\n",
            "           4       1.00      0.99      0.99        96\n",
            "           5       0.97      0.99      0.98        92\n",
            "           6       0.99      0.99      0.99        85\n",
            "           7       1.00      1.00      1.00        94\n",
            "           8       0.98      0.96      0.97        83\n",
            "           9       0.96      0.94      0.95        78\n",
            "\n",
            "    accuracy                           0.98       899\n",
            "   macro avg       0.98      0.98      0.98       899\n",
            "weighted avg       0.98      0.98      0.98       899\n",
            "\n"
          ]
        }
      ]
    },
    {
      "cell_type": "markdown",
      "metadata": {
        "id": "G33lYsqY1zQE"
      },
      "source": [
        "##### model2"
      ]
    },
    {
      "cell_type": "code",
      "metadata": {
        "colab": {
          "base_uri": "https://localhost:8080/"
        },
        "id": "vcQdv1VL0yWu",
        "outputId": "23d8cda7-68c0-4275-e32f-938a922732b4"
      },
      "source": [
        "y_pred2 = neighfull2.fit(X_train, y_train).predict(X_test)\n",
        "accuracy_score(y_test,y_pred2)"
      ],
      "execution_count": null,
      "outputs": [
        {
          "output_type": "execute_result",
          "data": {
            "text/plain": [
              "0.982202447163515"
            ]
          },
          "metadata": {},
          "execution_count": 21
        }
      ]
    },
    {
      "cell_type": "code",
      "metadata": {
        "colab": {
          "base_uri": "https://localhost:8080/"
        },
        "id": "DrxOu8yj1tuV",
        "outputId": "a577e935-9faa-4fa5-8190-7b0ce61846c6"
      },
      "source": [
        "cm2 = confusion_matrix(y_test,neighfull2.predict(X_test))\n",
        "cm2"
      ],
      "execution_count": null,
      "outputs": [
        {
          "output_type": "execute_result",
          "data": {
            "text/plain": [
              "array([[99,  0,  0,  0,  0,  0,  0,  0,  0,  0],\n",
              "       [ 0, 93,  0,  0,  0,  0,  0,  0,  0,  0],\n",
              "       [ 1,  0, 97,  1,  0,  0,  0,  1,  0,  0],\n",
              "       [ 0,  0,  1, 78,  0,  0,  0,  0,  0,  0],\n",
              "       [ 0,  0,  0,  0, 95,  0,  0,  0,  0,  1],\n",
              "       [ 0,  0,  0,  0,  0, 92,  0,  0,  0,  0],\n",
              "       [ 0,  1,  0,  0,  0,  0, 84,  0,  0,  0],\n",
              "       [ 0,  0,  0,  0,  0,  0,  0, 94,  0,  0],\n",
              "       [ 0,  2,  0,  2,  0,  0,  1,  0, 77,  1],\n",
              "       [ 0,  0,  0,  2,  0,  2,  0,  0,  0, 74]])"
            ]
          },
          "metadata": {},
          "execution_count": 25
        }
      ]
    },
    {
      "cell_type": "code",
      "metadata": {
        "colab": {
          "base_uri": "https://localhost:8080/"
        },
        "id": "wqWx-rMf1Qqf",
        "outputId": "8169f44c-1f5b-4f41-9f90-8646d63857bc"
      },
      "source": [
        "print(classification_report(y_test,y_pred2))"
      ],
      "execution_count": null,
      "outputs": [
        {
          "output_type": "stream",
          "name": "stdout",
          "text": [
            "              precision    recall  f1-score   support\n",
            "\n",
            "           0       0.99      1.00      0.99        99\n",
            "           1       0.97      1.00      0.98        93\n",
            "           2       0.99      0.97      0.98       100\n",
            "           3       0.94      0.99      0.96        79\n",
            "           4       1.00      0.99      0.99        96\n",
            "           5       0.98      1.00      0.99        92\n",
            "           6       0.99      0.99      0.99        85\n",
            "           7       0.99      1.00      0.99        94\n",
            "           8       1.00      0.93      0.96        83\n",
            "           9       0.97      0.95      0.96        78\n",
            "\n",
            "    accuracy                           0.98       899\n",
            "   macro avg       0.98      0.98      0.98       899\n",
            "weighted avg       0.98      0.98      0.98       899\n",
            "\n"
          ]
        }
      ]
    },
    {
      "cell_type": "code",
      "metadata": {
        "id": "aOU0VAud0VOh"
      },
      "source": [],
      "execution_count": null,
      "outputs": []
    },
    {
      "cell_type": "markdown",
      "metadata": {
        "id": "hSdXZvD8oabx"
      },
      "source": [
        "#### Train"
      ]
    }
  ]
}